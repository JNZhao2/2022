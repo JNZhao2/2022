{
  "nbformat": 4,
  "nbformat_minor": 0,
  "metadata": {
    "colab": {
      "provenance": [],
      "include_colab_link": true
    },
    "kernelspec": {
      "name": "python3",
      "display_name": "Python 3"
    },
    "language_info": {
      "name": "python"
    }
  },
  "cells": [
    {
      "cell_type": "markdown",
      "metadata": {
        "id": "view-in-github",
        "colab_type": "text"
      },
      "source": [
        "<a href=\"https://colab.research.google.com/github/JNZhao2/2022/blob/main/Copy_of_Project.ipynb\" target=\"_parent\"><img src=\"https://colab.research.google.com/assets/colab-badge.svg\" alt=\"Open In Colab\"/></a>"
      ]
    },
    {
      "cell_type": "code",
      "source": [
        "!pip install --upgrade openpyxl"
      ],
      "metadata": {
        "id": "QXxEmD3z9Bak"
      },
      "execution_count": null,
      "outputs": []
    },
    {
      "cell_type": "code",
      "execution_count": null,
      "metadata": {
        "id": "WBrdioCv519f"
      },
      "outputs": [],
      "source": [
        "import pandas as pd\n",
        "import numpy as np\n",
        "import matplotlib.pyplot as plt\n",
        "import seaborn as sns"
      ]
    },
    {
      "cell_type": "code",
      "source": [
        "from google.colab import files\n",
        "file = files.upload()  #upload file into google colab session\n",
        "df = pd.read_csv(\"mushrooms.csv\") \n",
        "df.head()"
      ],
      "metadata": {
        "id": "VsGzs6Mw8bsh"
      },
      "execution_count": null,
      "outputs": []
    },
    {
      "cell_type": "markdown",
      "source": [
        "##Data exploration and visualization"
      ],
      "metadata": {
        "id": "rLTORsBzxdnn"
      }
    },
    {
      "cell_type": "code",
      "source": [
        "#Data exploration\n",
        "df.dtypes"
      ],
      "metadata": {
        "id": "4Yaw1ZmY_ZwN"
      },
      "execution_count": null,
      "outputs": []
    },
    {
      "cell_type": "code",
      "source": [
        "df.describe()"
      ],
      "metadata": {
        "id": "b-vWZvuC95bv"
      },
      "execution_count": null,
      "outputs": []
    },
    {
      "cell_type": "code",
      "source": [
        "df.info()"
      ],
      "metadata": {
        "id": "MQCoIixV-LI3"
      },
      "execution_count": null,
      "outputs": []
    },
    {
      "cell_type": "code",
      "source": [
        "df.isnull().sum()"
      ],
      "metadata": {
        "id": "CUIwgwBL8jKj"
      },
      "execution_count": null,
      "outputs": []
    },
    {
      "cell_type": "code",
      "source": [
        "#Data visualization\n",
        "plot = sns.countplot(data=df, x='class',hue='class') #reponse variable\n",
        "plt.title('Edible vs Poisonous' ,fontsize=20)\n",
        "plt.show() "
      ],
      "metadata": {
        "id": "QKYRXen9KIx7"
      },
      "execution_count": null,
      "outputs": []
    },
    {
      "cell_type": "code",
      "source": [
        "#Determining unique value\n",
        "df['cap-shape'].unique()"
      ],
      "metadata": {
        "id": "q8d5Y2wCfRXz"
      },
      "execution_count": null,
      "outputs": []
    },
    {
      "cell_type": "code",
      "source": [
        "df['veil-type'].unique()"
      ],
      "metadata": {
        "id": "Eu-RTD3-j6vb"
      },
      "execution_count": null,
      "outputs": []
    },
    {
      "cell_type": "code",
      "source": [
        "df['gill-attachment'].unique()"
      ],
      "metadata": {
        "id": "citv2oEaqpKQ"
      },
      "execution_count": null,
      "outputs": []
    },
    {
      "cell_type": "code",
      "source": [
        "df['stalk-root'].unique()"
      ],
      "metadata": {
        "id": "l5yGwSpLvD-u"
      },
      "execution_count": null,
      "outputs": []
    },
    {
      "cell_type": "code",
      "source": [
        "plt.figure(figsize=(15, 8))\n",
        "plot = sns.countplot(data=df, x='cap-shape',hue='class')  \n",
        "plt.title('cap-shape' ,fontsize=20)\n",
        "plt.show()             "
      ],
      "metadata": {
        "id": "knRp8gifjtrE"
      },
      "execution_count": null,
      "outputs": []
    },
    {
      "cell_type": "code",
      "source": [
        "plt.figure(figsize=(15, 8))\n",
        "plot = sns.countplot(data=df, x='cap-surface',hue='class') \n",
        "plt.title('cap surface' ,fontsize=20)\n",
        "plt.show()  "
      ],
      "metadata": {
        "id": "SAPPIbFe-NHg"
      },
      "execution_count": null,
      "outputs": []
    },
    {
      "cell_type": "code",
      "source": [
        "plt.figure(figsize=(15, 8))\n",
        "plot = sns.countplot(data=df, x='cap-color',hue='class') \n",
        "plt.title('cap color' ,fontsize=20)\n",
        "plt.show()"
      ],
      "metadata": {
        "id": "FzTe5FTg1KS0"
      },
      "execution_count": null,
      "outputs": []
    },
    {
      "cell_type": "code",
      "source": [
        "plt.figure(figsize=(15, 8))\n",
        "plot = sns.countplot(data=df, x='veil-type',hue='class') \n",
        "plt.title('veil-type' ,fontsize=20)\n",
        "plt.show()"
      ],
      "metadata": {
        "id": "eYxkA41rccq2"
      },
      "execution_count": null,
      "outputs": []
    },
    {
      "cell_type": "code",
      "source": [
        "df['ring-number'].value_counts().plot(kind='pie', autopct='%.2f%%')"
      ],
      "metadata": {
        "id": "WcVYjNqEuR5n"
      },
      "execution_count": null,
      "outputs": []
    },
    {
      "cell_type": "code",
      "source": [
        "#stalk-root\n",
        "plt.figure(figsize=(15, 8))\n",
        "plot = sns.countplot(data=df, x='stalk-root',hue='class') \n",
        "plt.title('stalk-root' ,fontsize=20)\n",
        "plt.show()"
      ],
      "metadata": {
        "id": "oumO6Q_VV-Gn"
      },
      "execution_count": null,
      "outputs": []
    },
    {
      "cell_type": "code",
      "source": [
        "plt.figure(figsize=(15, 8))\n",
        "plot = sns.countplot(data=df, x='habitat',hue='class') \n",
        "plt.title('habitat' ,fontsize=20)\n",
        "plt.show() "
      ],
      "metadata": {
        "id": "3YzBD3HOdaMq"
      },
      "execution_count": null,
      "outputs": []
    },
    {
      "cell_type": "code",
      "source": [
        "from sklearn import preprocessing"
      ],
      "metadata": {
        "id": "8zy_dlSyiQoH"
      },
      "execution_count": null,
      "outputs": []
    },
    {
      "cell_type": "code",
      "source": [
        "#encoder the data from categorical variable to numrical variable\n",
        "le = preprocessing.LabelEncoder()\n",
        "df1 =df.apply(le.fit_transform)\n",
        "df1\n",
        "#p=1, e =0"
      ],
      "metadata": {
        "id": "fbCEbUFBiRvd"
      },
      "execution_count": null,
      "outputs": []
    },
    {
      "cell_type": "code",
      "source": [
        "#corr for heatmap\n",
        "corr = df1.corr()\n",
        "plt.figure(figsize=(16,10)) \n",
        "ax = sns.heatmap(data = corr, annot = True)\n",
        "plt.title('heatmap for the data' ,fontsize=20)\n",
        "plt.show()"
      ],
      "metadata": {
        "id": "wuR0K_w2i6pw"
      },
      "execution_count": null,
      "outputs": []
    },
    {
      "cell_type": "markdown",
      "source": [
        "dimension reduction"
      ],
      "metadata": {
        "id": "v1Kn7Thnx9nm"
      }
    },
    {
      "cell_type": "code",
      "source": [
        "# dimension reduction\n",
        "df1 = df1.drop(['veil-type','veil-color'], axis=1)"
      ],
      "metadata": {
        "id": "fcu8y7rk7l95"
      },
      "execution_count": null,
      "outputs": []
    },
    {
      "cell_type": "code",
      "source": [
        "X = df1.iloc[:,1:21] \n",
        "y = df1.iloc[:, 0]"
      ],
      "metadata": {
        "id": "zSqV7cDG7jNF"
      },
      "execution_count": null,
      "outputs": []
    },
    {
      "cell_type": "markdown",
      "source": [
        "data partitioning"
      ],
      "metadata": {
        "id": "hq_6q58pyYV8"
      }
    },
    {
      "cell_type": "code",
      "source": [
        "# data partitioning\n",
        "from sklearn.model_selection import train_test_split\n",
        "X_train, X_valid, y_train, y_valid = train_test_split(X, y, test_size=0.25, random_state=1)"
      ],
      "metadata": {
        "id": "Qpr6p8ALnqaR"
      },
      "execution_count": null,
      "outputs": []
    },
    {
      "cell_type": "markdown",
      "source": [
        "##KNN"
      ],
      "metadata": {
        "id": "tScFcIhen-Am"
      }
    },
    {
      "cell_type": "code",
      "source": [
        "from sklearn.metrics import accuracy_score\n",
        "from sklearn.neighbors import NearestNeighbors,KNeighborsClassifier\n",
        "import matplotlib.pylab as plt"
      ],
      "metadata": {
        "id": "FQaD3piaoDZQ"
      },
      "execution_count": null,
      "outputs": []
    },
    {
      "cell_type": "code",
      "source": [
        "results = []\n",
        "for k in range(1, 21):\n",
        "  knn = KNeighborsClassifier(n_neighbors=k).fit(X_train,y_train)\n",
        "  results.append({'k': k,'accuracy': accuracy_score(y_valid, knn.predict(X_valid))})\n",
        "# Convert results to a pandas data frame\n",
        "results = pd.DataFrame(results)\n",
        "print(results)"
      ],
      "metadata": {
        "id": "zEA55XnooIZp"
      },
      "execution_count": null,
      "outputs": []
    },
    {
      "cell_type": "code",
      "source": [
        "knn = KNeighborsClassifier(n_neighbors=6)\n",
        "knn.fit(X_train, y_train)\n",
        "y_predknn = knn.predict(X_valid)\n",
        "print('RandomForestClassifier Accuracy is: {}'.format(knn.score(X_valid,y_valid)))"
      ],
      "metadata": {
        "id": "tZljrmCPtICS"
      },
      "execution_count": null,
      "outputs": []
    },
    {
      "cell_type": "code",
      "source": [
        "print('Model accuracy score: {0:0.4f}'. format(accuracy_score(y_valid, y_predknn)))\n",
        "y_pred_train_knn = knn.predict(X_train)\n",
        "print('Training-set accuracy score: {0:0.4f}'. format(accuracy_score(y_train, y_pred_train_knn)))\n",
        "print('Training set score: {:.4f}'.format(knn.score(X_train, y_train)))\n",
        "print('Test set score: {:.4f}'.format(knn.score(X_valid, y_valid)))"
      ],
      "metadata": {
        "id": "lNB17MsHHpRc"
      },
      "execution_count": null,
      "outputs": []
    },
    {
      "cell_type": "code",
      "source": [
        "from sklearn.metrics import roc_curve, auc"
      ],
      "metadata": {
        "id": "8qYdMNt2ona6"
      },
      "execution_count": null,
      "outputs": []
    },
    {
      "cell_type": "code",
      "source": [
        "fpr,tpr,_= roc_curve(y_valid, y_predknn)\n",
        "roc_auc = auc(fpr, tpr)\n",
        "plt.figure(figsize=[5, 5])\n",
        "plt.plot(fpr, tpr, color='darkorange',lw=2,label='ROC curve (area = %0.4f)' % roc_auc)\n",
        "plt.plot([0, 1], [0, 1], color='navy', lw=2, linestyle='--')\n",
        "plt.xlim([0.0, 1.0])\n",
        "plt.ylim([0.0, 1.05])\n",
        "plt.title('ROC CURVE KNN')\n",
        "plt.xlabel('False Positive Rate (1 - Specificity)')\n",
        "plt.ylabel('True Positive Rate (Sensitivity)')\n",
        "plt.legend(loc=\"lower right\")"
      ],
      "metadata": {
        "id": "ps_YyqX9n4ra"
      },
      "execution_count": null,
      "outputs": []
    },
    {
      "cell_type": "code",
      "source": [
        "from sklearn.metrics import classification_report\n",
        "\n",
        "print(classification_report(y_valid, y_predknn))"
      ],
      "metadata": {
        "id": "BXKvepao7-Tn"
      },
      "execution_count": null,
      "outputs": []
    },
    {
      "cell_type": "markdown",
      "source": [
        "##Naive Bayes"
      ],
      "metadata": {
        "id": "CVOcAH7Fo2CM"
      }
    },
    {
      "cell_type": "code",
      "source": [
        "!pip install dmba\n",
        "from dmba import classificationSummary"
      ],
      "metadata": {
        "id": "57MMFBKVIwv8"
      },
      "execution_count": null,
      "outputs": []
    },
    {
      "cell_type": "code",
      "source": [
        "from sklearn.naive_bayes import MultinomialNB\n",
        "# instantiate the model\n",
        "model_nb = MultinomialNB()\n",
        "# fit the model\n",
        "model_nb.fit(X_train, y_train)\n",
        "y_pred_NB = model_nb.predict(X_valid)\n",
        "# predict probabilities\n",
        "predProb_train = model_nb.predict_proba(X_train)\n",
        "predProb_valid = model_nb.predict_proba(X_valid)[:, 1]"
      ],
      "metadata": {
        "id": "SenCOJyhy04G"
      },
      "execution_count": null,
      "outputs": []
    },
    {
      "cell_type": "code",
      "source": [
        "from sklearn.metrics import accuracy_score\n",
        "#accuracy of testing and training sets\n",
        "print('Model accuracy score: {0:0.4f}'. format(accuracy_score(y_valid, y_pred_NB)))\n",
        "y_pred_train_NB = model_nb.predict(X_train)\n",
        "print('Training-set accuracy score: {0:0.4f}'. format(accuracy_score(y_train, y_pred_train_NB)))"
      ],
      "metadata": {
        "id": "glOOpkRh03yo"
      },
      "execution_count": null,
      "outputs": []
    },
    {
      "cell_type": "code",
      "source": [
        "from sklearn.metrics import confusion_matrix\n",
        "from sklearn.metrics import log_loss, roc_auc_score, recall_score, precision_score, average_precision_score, f1_score, classification_report, accuracy_score, plot_roc_curve, plot_precision_recall_curve, plot_confusion_matrix"
      ],
      "metadata": {
        "id": "KBGj7w1_Uldv"
      },
      "execution_count": null,
      "outputs": []
    },
    {
      "cell_type": "code",
      "source": [
        "#cm for the the training set\n",
        "cm_nb_train = confusion_matrix(y_train, y_pred_train_NB)\n",
        "\n",
        "print('Confusion matrix\\n\\n', cm_nb_train)\n",
        "\n",
        "print('Training Accuracy = {:.5f}'.format(accuracy_score(y_train, y_pred_train_NB)))"
      ],
      "metadata": {
        "id": "THzVqTGN_4E-"
      },
      "execution_count": null,
      "outputs": []
    },
    {
      "cell_type": "code",
      "source": [
        "#classification report for the training set\n",
        "print(classification_report(y_train, y_pred_train_NB))"
      ],
      "metadata": {
        "id": "X_fxRazBB-SD"
      },
      "execution_count": null,
      "outputs": []
    },
    {
      "cell_type": "code",
      "source": [
        "#Visualization for training cm\n",
        "cm_matrix_train_NB = pd.DataFrame(data=cm_nb_train)\n",
        "sns.heatmap(cm_matrix_train_NB, annot=True, fmt='d', cmap='YlGnBu')\n",
        "plt.xlabel('Predicted')\n",
        "plt.ylabel('Actual')"
      ],
      "metadata": {
        "id": "zEBQ3rSxSN6N"
      },
      "execution_count": null,
      "outputs": []
    },
    {
      "cell_type": "code",
      "source": [
        "#cm for validation set\n",
        "cm_nb_valid = confusion_matrix(y_valid, y_pred_NB)\n",
        "test_prob_nb = model_nb.predict_proba(X_valid)[:, 1]\n",
        "\n",
        "print('Confusion matrix\\n\\n', cm_nb_valid)\n",
        "print('Log loss = {:.5f}'.format(log_loss(y_valid, test_prob_nb)))\n",
        "print('AUC = {:.5f}'.format(roc_auc_score(y_valid, test_prob_nb)))\n",
        "print('Average Precision = {:.5f}'.format(average_precision_score(y_valid, test_prob_nb)))"
      ],
      "metadata": {
        "id": "QIUi0ajl140L"
      },
      "execution_count": null,
      "outputs": []
    },
    {
      "cell_type": "code",
      "source": [
        "#measurements for the testing set \n",
        "print('\\nUsing 0.5 as threshold:')\n",
        "print('Accuracy = {:.5f}'.format(accuracy_score(y_valid, y_pred_NB)))\n",
        "print('Precision = {:.5f}'.format(precision_score(y_valid, y_pred_NB)))\n",
        "print('Recall = {:.5f}'.format(recall_score(y_valid, y_pred_NB)))\n",
        "print('F1 score = {:.5f}'.format(f1_score(y_valid, y_pred_NB)))\n",
        "\n",
        "print('\\nClassification Report')\n",
        "print(classification_report(y_valid, y_pred_NB))"
      ],
      "metadata": {
        "id": "j3qH1kIzt90U"
      },
      "execution_count": null,
      "outputs": []
    },
    {
      "cell_type": "code",
      "source": [
        "#Visualization for testing cm\n",
        "cm_matrix_pred_NB = pd.DataFrame(data=cm_nb_valid)\n",
        "sns.heatmap(cm_matrix_pred_NB, annot=True, fmt='d', cmap='YlGnBu')\n",
        "plt.xlabel('Predicted')\n",
        "plt.ylabel('Actual')"
      ],
      "metadata": {
        "id": "O-swbyD5RvPr"
      },
      "execution_count": null,
      "outputs": []
    },
    {
      "cell_type": "code",
      "source": [
        "#ROC Curve for the Naive Bayes model\n",
        "fpr, tpr,_ = roc_curve(y_valid, predProb_valid)\n",
        "roc_auc = auc(fpr, tpr)\n",
        "plt.figure(figsize=[5, 5])\n",
        "plt.plot(fpr, tpr, color='darkorange',lw=2,label='ROC curve (area = %0.4f)' % roc_auc)\n",
        "plt.plot([0, 1], [0, 1], color='navy', lw=2, linestyle='--')\n",
        "plt.xlim([0.0, 1.0])\n",
        "plt.ylim([0.0, 1.05])\n",
        "plt.title('ROC CURVE Naive Bayes')\n",
        "plt.xlabel('False Positive Rate (1 - Specificity)')\n",
        "plt.ylabel('True Positive Rate (Sensitivity)')\n",
        "plt.legend(loc=\"lower right\")"
      ],
      "metadata": {
        "id": "Kn1ywISs5qsq"
      },
      "execution_count": null,
      "outputs": []
    },
    {
      "cell_type": "markdown",
      "source": [
        "##Logistic Regression"
      ],
      "metadata": {
        "id": "RDiUAo6PMOkU"
      }
    },
    {
      "cell_type": "code",
      "source": [
        "from sklearn.linear_model import LogisticRegression"
      ],
      "metadata": {
        "id": "YaKbJxsb3gtH"
      },
      "execution_count": null,
      "outputs": []
    },
    {
      "cell_type": "code",
      "source": [
        "#fit the model\n",
        "model_lr = LogisticRegression(max_iter=1000)\n",
        "model_lr.fit(X_train, y_train)"
      ],
      "metadata": {
        "id": "1rGconOz_UaC"
      },
      "execution_count": null,
      "outputs": []
    },
    {
      "cell_type": "code",
      "source": [
        "#prediction\n",
        "y_pred_lr = model_lr.predict(X_valid)\n",
        "test_prob = model_lr.predict_proba(X_valid)[:, 1]  # P(target = 1)"
      ],
      "metadata": {
        "id": "j2ZWBJtJ_74Q"
      },
      "execution_count": null,
      "outputs": []
    },
    {
      "cell_type": "code",
      "source": [
        "#training accuracy\n",
        "y_pred_lr_train = model_lr.predict(X_train)\n",
        "print('Training Accuracy = {:.5f}'.format(accuracy_score(y_train, y_pred_lr_train)))"
      ],
      "metadata": {
        "id": "mjM6wq7Kq6YV"
      },
      "execution_count": null,
      "outputs": []
    },
    {
      "cell_type": "code",
      "source": [
        "# ROC Curve for the logistic regression model\n",
        "fpr,tpr,_= roc_curve(y_valid, test_prob)\n",
        "roc_auc = auc(fpr, tpr)\n",
        "plt.figure(figsize=[5, 5])\n",
        "plt.plot(fpr, tpr, color='darkorange',lw=2,label='ROC curve (area = %0.4f)' % roc_auc)\n",
        "plt.plot([0, 1], [0, 1], color='navy', lw=2, linestyle='--')\n",
        "plt.xlim([0.0, 1.0])\n",
        "plt.ylim([0.0, 1.05])\n",
        "plt.title('ROC CURVE Logistic Regression')\n",
        "plt.xlabel('False Positive Rate (1 - Specificity)')\n",
        "plt.ylabel('True Positive Rate (Sensitivity)')\n",
        "plt.legend(loc=\"lower right\")"
      ],
      "metadata": {
        "id": "O7y4adtvDMtp"
      },
      "execution_count": null,
      "outputs": []
    },
    {
      "cell_type": "code",
      "source": [
        "#measurements for the testing set\n",
        "print('Log loss = {:.5f}'.format(log_loss(y_valid, test_prob)))\n",
        "print('AUC = {:.5f}'.format(roc_auc_score(y_valid, test_prob)))\n",
        "print('Average Precision = {:.5f}'.format(average_precision_score(y_valid, test_prob)))\n",
        "print('\\nUsing 0.5 as threshold:')\n",
        "print('Accuracy = {:.5f}'.format(accuracy_score(y_valid, y_pred_lr)))\n",
        "print('Precision = {:.5f}'.format(precision_score(y_valid, y_pred_lr)))\n",
        "print('Recall = {:.5f}'.format(recall_score(y_valid, y_pred_lr)))\n",
        "print('F1 score = {:.5f}'.format(f1_score(y_valid, y_pred_lr)))\n",
        "\n",
        "print('\\nClassification Report')\n",
        "print(classification_report(y_valid, y_pred_lr))"
      ],
      "metadata": {
        "id": "4vIUu4GlBqZt"
      },
      "execution_count": null,
      "outputs": []
    },
    {
      "cell_type": "code",
      "source": [
        "#cm for the testing set\n",
        "cm_lr = confusion_matrix(y_valid, y_pred_lr)\n",
        "\n",
        "print('Confusion matrix\\n\\n', cm_lr)"
      ],
      "metadata": {
        "id": "tk0ovpRvKtLE"
      },
      "execution_count": null,
      "outputs": []
    },
    {
      "cell_type": "code",
      "source": [
        "cm_matrix_lr = pd.DataFrame(data=cm_lr)\n",
        "sns.heatmap(cm_matrix_lr, annot=True, fmt='d', cmap='YlGnBu')\n",
        "plt.xlabel('Predicted')\n",
        "plt.ylabel('Actual')"
      ],
      "metadata": {
        "id": "qgR_wxBmQPj_"
      },
      "execution_count": null,
      "outputs": []
    },
    {
      "cell_type": "markdown",
      "source": [
        "##Random Forest"
      ],
      "metadata": {
        "id": "etxkukjIdSB5"
      }
    },
    {
      "cell_type": "code",
      "source": [
        "from sklearn.ensemble import RandomForestClassifier,GradientBoostingClassifier"
      ],
      "metadata": {
        "id": "9GnB4OQvf0Ud"
      },
      "execution_count": null,
      "outputs": []
    },
    {
      "cell_type": "code",
      "source": [
        "RFC = RandomForestClassifier(max_depth=4,max_features=20, random_state=1)\n",
        "RFC.fit(X_train, y_train)\n",
        "y_predrfc = RFC.predict(X_valid)\n",
        "print('RandomForestClassifier Accuracy is: {}'.format(RFC.score(X_valid,y_valid)))"
      ],
      "metadata": {
        "id": "lQdMTKS5xQDd"
      },
      "execution_count": null,
      "outputs": []
    },
    {
      "cell_type": "code",
      "source": [
        "results = []\n",
        "for m in range(1, 20):\n",
        "  RFC = RandomForestClassifier(max_depth=m,max_features=20).fit(X_train,y_train)\n",
        "  results.append({'m': m,'accuracy': accuracy_score(y_valid, RFC.predict(X_valid))})\n",
        "# Convert results to a pandas data frame\n",
        "results = pd.DataFrame(results)\n",
        "print(results)"
      ],
      "metadata": {
        "id": "H1RBllQqxFpT"
      },
      "execution_count": null,
      "outputs": []
    },
    {
      "cell_type": "code",
      "source": [
        "rf = RandomForestClassifier(max_depth=3, random_state=1)\n",
        "rf.fit(X_train, y_train)\n",
        "# variable (feature) importance plot\n",
        "importances = rf.feature_importances_\n",
        "std = np.std([tree.feature_importances_ for tree in rf.estimators_], axis=0)\n",
        "df = pd.DataFrame({'feature': X_train.columns, 'importance': importances, 'std': std})\n",
        "df = df.sort_values('importance')\n",
        "print(df)\n",
        "ax = df.plot(kind='barh', xerr='std', x='feature', legend=False)\n",
        "ax.set_ylabel('')\n",
        "plt.show()"
      ],
      "metadata": {
        "id": "-8RTQHN6fqRU"
      },
      "execution_count": null,
      "outputs": []
    },
    {
      "cell_type": "code",
      "source": [
        "RFC = RandomForestClassifier(max_depth=3,max_features=20, random_state=1)\n",
        "RFC.fit(X_train, y_train)\n",
        "y_predrfc = RFC.predict(X_valid)\n",
        "print('RandomForestClassifier Accuracy is: {}'.format(RFC.score(X_valid,y_valid)))"
      ],
      "metadata": {
        "id": "tVm9aCCbs1ob"
      },
      "execution_count": null,
      "outputs": []
    },
    {
      "cell_type": "code",
      "source": [
        "from sklearn.metrics import classification_report\n",
        "\n",
        "print(classification_report(y_valid, y_predrfc))"
      ],
      "metadata": {
        "id": "2gIoWS1ZK2lP"
      },
      "execution_count": null,
      "outputs": []
    },
    {
      "cell_type": "code",
      "source": [
        "fpr, tpr,_ = roc_curve(y_valid, y_predrfc)\n",
        "roc_auc = auc(fpr, tpr)\n",
        "plt.figure(figsize=[5, 5])\n",
        "plt.plot(fpr, tpr, color='darkorange',lw=2,label='ROC curve (area = %0.4f)' % roc_auc)\n",
        "plt.plot([0, 1], [0, 1], color='navy', lw=2, linestyle='--')\n",
        "plt.xlim([0.0, 1.0])\n",
        "plt.ylim([0.0, 1.05])\n",
        "plt.xlabel('False Positive Rate (1 - Specificity)')\n",
        "plt.ylabel('True Positive Rate (Sensitivity)')\n",
        "plt.legend(loc=\"lower right\")"
      ],
      "metadata": {
        "id": "LfT7H49wlpP9"
      },
      "execution_count": null,
      "outputs": []
    },
    {
      "cell_type": "markdown",
      "source": [
        "##Project results"
      ],
      "metadata": {
        "id": "5_aZWWLY6ZWF"
      }
    },
    {
      "cell_type": "code",
      "source": [
        "models = {'models': ['k-NN','Naive Bayes', 'Logistic Regression', 'Random Forest'],\n",
        "        'Accuracy': [accuracy_score(y_valid, y_predknn),accuracy_score(y_valid, y_pred_NB),accuracy_score(y_valid, y_pred_lr),RFC.score(X_valid,y_valid)],\n",
        "         'Precision':[precision_score(y_valid, y_predknn),precision_score(y_valid, y_pred_NB),precision_score(y_valid, y_pred_lr),precision_score(y_valid, y_predrfc)],\n",
        "          'Recall': [recall_score(y_valid, y_predknn),recall_score(y_valid, y_pred_NB),recall_score(y_valid, y_pred_lr),recall_score(y_valid, y_predrfc)]}\n",
        "df_performance = pd.DataFrame(models)\n",
        "pd.set_option('precision', 3)\n",
        "df_performance"
      ],
      "metadata": {
        "id": "n1IKzsBbJrVr"
      },
      "execution_count": null,
      "outputs": []
    }
  ]
}