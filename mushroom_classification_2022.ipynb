{
  "nbformat": 4,
  "nbformat_minor": 0,
  "metadata": {
    "colab": {
      "provenance": [],
      "authorship_tag": "ABX9TyOLGyKaP7SN9rL+KRUD2rZb",
      "include_colab_link": true
    },
    "kernelspec": {
      "name": "python3",
      "display_name": "Python 3"
    },
    "language_info": {
      "name": "python"
    }
  },
  "cells": [
    {
      "cell_type": "markdown",
      "metadata": {
        "id": "view-in-github",
        "colab_type": "text"
      },
      "source": [
        "<a href=\"https://colab.research.google.com/github/JNZhao2/classification-2022/blob/main/mushroom_classification_2022.ipynb\" target=\"_parent\"><img src=\"https://colab.research.google.com/assets/colab-badge.svg\" alt=\"Open In Colab\"/></a>"
      ]
    },
    {
      "cell_type": "markdown",
      "source": [
        "**Problem Setting:**<br>\n",
        "A mushroom is the fleshy, spore-carrying sporocarp of a fungus. Mushrooms widely spread throughout the world, typically grow on the ground, soil, or anywhere with their food sources. There are more than 14,000 known species of mushrooms at present, some of them share very similar characteristics, while some have distinctive shapes and sizes. Since many mushroom species produce secondary metabolites that can be toxic after ingestion, it is crucial for people to distinguish the poisonous mushrooms from the edible ones. \n",
        "Mushroom poisoning is one of the major safety issues in many countries in the world, although most of the cases cause no or only minor harm, there are still a number of mushroom poisonings that result in major harm or fatalities occurring each year.\n"
      ],
      "metadata": {
        "id": "6hyaiJhWjNan"
      }
    },
    {
      "cell_type": "markdown",
      "source": [
        "**Problem Definition:**<br>\n",
        "The purpose of the project is to learn if poisonous and edible mushrooms can be classified according to their physical characteristics such as shape, color, and size. Through the process of analysis, it can be seen whether there is any single factor that determines the edibility."
      ],
      "metadata": {
        "id": "aeqK85UZumAS"
      }
    },
    {
      "cell_type": "markdown",
      "source": [
        "**Data Sources:** https://archive.ics.uci.edu/ml/datasets/Mushroom<br>\n",
        "The dataset has been taken from UC Irvine Machine Learning Repository, and the original mushroom records were drawn from The Audubon Society Field Guide to North American Mushrooms (1981). G. H. Lincoff (Pres.), New York: Alfred A. Knopf. "
      ],
      "metadata": {
        "id": "ULrQvOAZusRM"
      }
    },
    {
      "cell_type": "code",
      "source": [
        "!pip install --upgrade openpyxl"
      ],
      "metadata": {
        "colab": {
          "base_uri": "https://localhost:8080/"
        },
        "id": "SVYR5yC4kF6e",
        "outputId": "b58d5294-20e9-48eb-9379-3d8a047096fd"
      },
      "execution_count": 1,
      "outputs": [
        {
          "output_type": "stream",
          "name": "stdout",
          "text": [
            "Looking in indexes: https://pypi.org/simple, https://us-python.pkg.dev/colab-wheels/public/simple/\n",
            "Requirement already satisfied: openpyxl in /usr/local/lib/python3.8/dist-packages (3.0.10)\n",
            "Requirement already satisfied: et-xmlfile in /usr/local/lib/python3.8/dist-packages (from openpyxl) (1.1.0)\n"
          ]
        }
      ]
    },
    {
      "cell_type": "code",
      "source": [
        "import pandas as pd\n",
        "import numpy as np\n",
        "import matplotlib.pyplot as plt\n",
        "import seaborn as sns"
      ],
      "metadata": {
        "id": "BvntkluzkLN6"
      },
      "execution_count": 2,
      "outputs": []
    },
    {
      "cell_type": "code",
      "source": [
        "from google.colab import files\n",
        "file = files.upload()  #upload file into google colab session\n",
        "df = pd.read_csv(\"mushrooms.csv\") \n",
        "df.head()"
      ],
      "metadata": {
        "colab": {
          "base_uri": "https://localhost:8080/",
          "height": 388
        },
        "id": "QmPGiEO-kLqF",
        "outputId": "b60907e3-be9b-474c-8d07-4c77482b90ae"
      },
      "execution_count": 3,
      "outputs": [
        {
          "output_type": "display_data",
          "data": {
            "text/plain": [
              "<IPython.core.display.HTML object>"
            ],
            "text/html": [
              "\n",
              "     <input type=\"file\" id=\"files-eb86cae4-10ab-4c19-a18c-014523000b94\" name=\"files[]\" multiple disabled\n",
              "        style=\"border:none\" />\n",
              "     <output id=\"result-eb86cae4-10ab-4c19-a18c-014523000b94\">\n",
              "      Upload widget is only available when the cell has been executed in the\n",
              "      current browser session. Please rerun this cell to enable.\n",
              "      </output>\n",
              "      <script>// Copyright 2017 Google LLC\n",
              "//\n",
              "// Licensed under the Apache License, Version 2.0 (the \"License\");\n",
              "// you may not use this file except in compliance with the License.\n",
              "// You may obtain a copy of the License at\n",
              "//\n",
              "//      http://www.apache.org/licenses/LICENSE-2.0\n",
              "//\n",
              "// Unless required by applicable law or agreed to in writing, software\n",
              "// distributed under the License is distributed on an \"AS IS\" BASIS,\n",
              "// WITHOUT WARRANTIES OR CONDITIONS OF ANY KIND, either express or implied.\n",
              "// See the License for the specific language governing permissions and\n",
              "// limitations under the License.\n",
              "\n",
              "/**\n",
              " * @fileoverview Helpers for google.colab Python module.\n",
              " */\n",
              "(function(scope) {\n",
              "function span(text, styleAttributes = {}) {\n",
              "  const element = document.createElement('span');\n",
              "  element.textContent = text;\n",
              "  for (const key of Object.keys(styleAttributes)) {\n",
              "    element.style[key] = styleAttributes[key];\n",
              "  }\n",
              "  return element;\n",
              "}\n",
              "\n",
              "// Max number of bytes which will be uploaded at a time.\n",
              "const MAX_PAYLOAD_SIZE = 100 * 1024;\n",
              "\n",
              "function _uploadFiles(inputId, outputId) {\n",
              "  const steps = uploadFilesStep(inputId, outputId);\n",
              "  const outputElement = document.getElementById(outputId);\n",
              "  // Cache steps on the outputElement to make it available for the next call\n",
              "  // to uploadFilesContinue from Python.\n",
              "  outputElement.steps = steps;\n",
              "\n",
              "  return _uploadFilesContinue(outputId);\n",
              "}\n",
              "\n",
              "// This is roughly an async generator (not supported in the browser yet),\n",
              "// where there are multiple asynchronous steps and the Python side is going\n",
              "// to poll for completion of each step.\n",
              "// This uses a Promise to block the python side on completion of each step,\n",
              "// then passes the result of the previous step as the input to the next step.\n",
              "function _uploadFilesContinue(outputId) {\n",
              "  const outputElement = document.getElementById(outputId);\n",
              "  const steps = outputElement.steps;\n",
              "\n",
              "  const next = steps.next(outputElement.lastPromiseValue);\n",
              "  return Promise.resolve(next.value.promise).then((value) => {\n",
              "    // Cache the last promise value to make it available to the next\n",
              "    // step of the generator.\n",
              "    outputElement.lastPromiseValue = value;\n",
              "    return next.value.response;\n",
              "  });\n",
              "}\n",
              "\n",
              "/**\n",
              " * Generator function which is called between each async step of the upload\n",
              " * process.\n",
              " * @param {string} inputId Element ID of the input file picker element.\n",
              " * @param {string} outputId Element ID of the output display.\n",
              " * @return {!Iterable<!Object>} Iterable of next steps.\n",
              " */\n",
              "function* uploadFilesStep(inputId, outputId) {\n",
              "  const inputElement = document.getElementById(inputId);\n",
              "  inputElement.disabled = false;\n",
              "\n",
              "  const outputElement = document.getElementById(outputId);\n",
              "  outputElement.innerHTML = '';\n",
              "\n",
              "  const pickedPromise = new Promise((resolve) => {\n",
              "    inputElement.addEventListener('change', (e) => {\n",
              "      resolve(e.target.files);\n",
              "    });\n",
              "  });\n",
              "\n",
              "  const cancel = document.createElement('button');\n",
              "  inputElement.parentElement.appendChild(cancel);\n",
              "  cancel.textContent = 'Cancel upload';\n",
              "  const cancelPromise = new Promise((resolve) => {\n",
              "    cancel.onclick = () => {\n",
              "      resolve(null);\n",
              "    };\n",
              "  });\n",
              "\n",
              "  // Wait for the user to pick the files.\n",
              "  const files = yield {\n",
              "    promise: Promise.race([pickedPromise, cancelPromise]),\n",
              "    response: {\n",
              "      action: 'starting',\n",
              "    }\n",
              "  };\n",
              "\n",
              "  cancel.remove();\n",
              "\n",
              "  // Disable the input element since further picks are not allowed.\n",
              "  inputElement.disabled = true;\n",
              "\n",
              "  if (!files) {\n",
              "    return {\n",
              "      response: {\n",
              "        action: 'complete',\n",
              "      }\n",
              "    };\n",
              "  }\n",
              "\n",
              "  for (const file of files) {\n",
              "    const li = document.createElement('li');\n",
              "    li.append(span(file.name, {fontWeight: 'bold'}));\n",
              "    li.append(span(\n",
              "        `(${file.type || 'n/a'}) - ${file.size} bytes, ` +\n",
              "        `last modified: ${\n",
              "            file.lastModifiedDate ? file.lastModifiedDate.toLocaleDateString() :\n",
              "                                    'n/a'} - `));\n",
              "    const percent = span('0% done');\n",
              "    li.appendChild(percent);\n",
              "\n",
              "    outputElement.appendChild(li);\n",
              "\n",
              "    const fileDataPromise = new Promise((resolve) => {\n",
              "      const reader = new FileReader();\n",
              "      reader.onload = (e) => {\n",
              "        resolve(e.target.result);\n",
              "      };\n",
              "      reader.readAsArrayBuffer(file);\n",
              "    });\n",
              "    // Wait for the data to be ready.\n",
              "    let fileData = yield {\n",
              "      promise: fileDataPromise,\n",
              "      response: {\n",
              "        action: 'continue',\n",
              "      }\n",
              "    };\n",
              "\n",
              "    // Use a chunked sending to avoid message size limits. See b/62115660.\n",
              "    let position = 0;\n",
              "    do {\n",
              "      const length = Math.min(fileData.byteLength - position, MAX_PAYLOAD_SIZE);\n",
              "      const chunk = new Uint8Array(fileData, position, length);\n",
              "      position += length;\n",
              "\n",
              "      const base64 = btoa(String.fromCharCode.apply(null, chunk));\n",
              "      yield {\n",
              "        response: {\n",
              "          action: 'append',\n",
              "          file: file.name,\n",
              "          data: base64,\n",
              "        },\n",
              "      };\n",
              "\n",
              "      let percentDone = fileData.byteLength === 0 ?\n",
              "          100 :\n",
              "          Math.round((position / fileData.byteLength) * 100);\n",
              "      percent.textContent = `${percentDone}% done`;\n",
              "\n",
              "    } while (position < fileData.byteLength);\n",
              "  }\n",
              "\n",
              "  // All done.\n",
              "  yield {\n",
              "    response: {\n",
              "      action: 'complete',\n",
              "    }\n",
              "  };\n",
              "}\n",
              "\n",
              "scope.google = scope.google || {};\n",
              "scope.google.colab = scope.google.colab || {};\n",
              "scope.google.colab._files = {\n",
              "  _uploadFiles,\n",
              "  _uploadFilesContinue,\n",
              "};\n",
              "})(self);\n",
              "</script> "
            ]
          },
          "metadata": {}
        },
        {
          "output_type": "stream",
          "name": "stdout",
          "text": [
            "Saving mushrooms.csv to mushrooms.csv\n"
          ]
        },
        {
          "output_type": "execute_result",
          "data": {
            "text/plain": [
              "  class cap-shape cap-surface cap-color bruises odor gill-attachment  \\\n",
              "0     p         x           s         n       t    p               f   \n",
              "1     e         x           s         y       t    a               f   \n",
              "2     e         b           s         w       t    l               f   \n",
              "3     p         x           y         w       t    p               f   \n",
              "4     e         x           s         g       f    n               f   \n",
              "\n",
              "  gill-spacing gill-size gill-color  ... stalk-surface-below-ring  \\\n",
              "0            c         n          k  ...                        s   \n",
              "1            c         b          k  ...                        s   \n",
              "2            c         b          n  ...                        s   \n",
              "3            c         n          n  ...                        s   \n",
              "4            w         b          k  ...                        s   \n",
              "\n",
              "  stalk-color-above-ring stalk-color-below-ring veil-type veil-color  \\\n",
              "0                      w                      w         p          w   \n",
              "1                      w                      w         p          w   \n",
              "2                      w                      w         p          w   \n",
              "3                      w                      w         p          w   \n",
              "4                      w                      w         p          w   \n",
              "\n",
              "  ring-number ring-type spore-print-color population habitat  \n",
              "0           o         p                 k          s       u  \n",
              "1           o         p                 n          n       g  \n",
              "2           o         p                 n          n       m  \n",
              "3           o         p                 k          s       u  \n",
              "4           o         e                 n          a       g  \n",
              "\n",
              "[5 rows x 23 columns]"
            ],
            "text/html": [
              "\n",
              "  <div id=\"df-de71105e-836c-49d2-98cf-1066f10874af\">\n",
              "    <div class=\"colab-df-container\">\n",
              "      <div>\n",
              "<style scoped>\n",
              "    .dataframe tbody tr th:only-of-type {\n",
              "        vertical-align: middle;\n",
              "    }\n",
              "\n",
              "    .dataframe tbody tr th {\n",
              "        vertical-align: top;\n",
              "    }\n",
              "\n",
              "    .dataframe thead th {\n",
              "        text-align: right;\n",
              "    }\n",
              "</style>\n",
              "<table border=\"1\" class=\"dataframe\">\n",
              "  <thead>\n",
              "    <tr style=\"text-align: right;\">\n",
              "      <th></th>\n",
              "      <th>class</th>\n",
              "      <th>cap-shape</th>\n",
              "      <th>cap-surface</th>\n",
              "      <th>cap-color</th>\n",
              "      <th>bruises</th>\n",
              "      <th>odor</th>\n",
              "      <th>gill-attachment</th>\n",
              "      <th>gill-spacing</th>\n",
              "      <th>gill-size</th>\n",
              "      <th>gill-color</th>\n",
              "      <th>...</th>\n",
              "      <th>stalk-surface-below-ring</th>\n",
              "      <th>stalk-color-above-ring</th>\n",
              "      <th>stalk-color-below-ring</th>\n",
              "      <th>veil-type</th>\n",
              "      <th>veil-color</th>\n",
              "      <th>ring-number</th>\n",
              "      <th>ring-type</th>\n",
              "      <th>spore-print-color</th>\n",
              "      <th>population</th>\n",
              "      <th>habitat</th>\n",
              "    </tr>\n",
              "  </thead>\n",
              "  <tbody>\n",
              "    <tr>\n",
              "      <th>0</th>\n",
              "      <td>p</td>\n",
              "      <td>x</td>\n",
              "      <td>s</td>\n",
              "      <td>n</td>\n",
              "      <td>t</td>\n",
              "      <td>p</td>\n",
              "      <td>f</td>\n",
              "      <td>c</td>\n",
              "      <td>n</td>\n",
              "      <td>k</td>\n",
              "      <td>...</td>\n",
              "      <td>s</td>\n",
              "      <td>w</td>\n",
              "      <td>w</td>\n",
              "      <td>p</td>\n",
              "      <td>w</td>\n",
              "      <td>o</td>\n",
              "      <td>p</td>\n",
              "      <td>k</td>\n",
              "      <td>s</td>\n",
              "      <td>u</td>\n",
              "    </tr>\n",
              "    <tr>\n",
              "      <th>1</th>\n",
              "      <td>e</td>\n",
              "      <td>x</td>\n",
              "      <td>s</td>\n",
              "      <td>y</td>\n",
              "      <td>t</td>\n",
              "      <td>a</td>\n",
              "      <td>f</td>\n",
              "      <td>c</td>\n",
              "      <td>b</td>\n",
              "      <td>k</td>\n",
              "      <td>...</td>\n",
              "      <td>s</td>\n",
              "      <td>w</td>\n",
              "      <td>w</td>\n",
              "      <td>p</td>\n",
              "      <td>w</td>\n",
              "      <td>o</td>\n",
              "      <td>p</td>\n",
              "      <td>n</td>\n",
              "      <td>n</td>\n",
              "      <td>g</td>\n",
              "    </tr>\n",
              "    <tr>\n",
              "      <th>2</th>\n",
              "      <td>e</td>\n",
              "      <td>b</td>\n",
              "      <td>s</td>\n",
              "      <td>w</td>\n",
              "      <td>t</td>\n",
              "      <td>l</td>\n",
              "      <td>f</td>\n",
              "      <td>c</td>\n",
              "      <td>b</td>\n",
              "      <td>n</td>\n",
              "      <td>...</td>\n",
              "      <td>s</td>\n",
              "      <td>w</td>\n",
              "      <td>w</td>\n",
              "      <td>p</td>\n",
              "      <td>w</td>\n",
              "      <td>o</td>\n",
              "      <td>p</td>\n",
              "      <td>n</td>\n",
              "      <td>n</td>\n",
              "      <td>m</td>\n",
              "    </tr>\n",
              "    <tr>\n",
              "      <th>3</th>\n",
              "      <td>p</td>\n",
              "      <td>x</td>\n",
              "      <td>y</td>\n",
              "      <td>w</td>\n",
              "      <td>t</td>\n",
              "      <td>p</td>\n",
              "      <td>f</td>\n",
              "      <td>c</td>\n",
              "      <td>n</td>\n",
              "      <td>n</td>\n",
              "      <td>...</td>\n",
              "      <td>s</td>\n",
              "      <td>w</td>\n",
              "      <td>w</td>\n",
              "      <td>p</td>\n",
              "      <td>w</td>\n",
              "      <td>o</td>\n",
              "      <td>p</td>\n",
              "      <td>k</td>\n",
              "      <td>s</td>\n",
              "      <td>u</td>\n",
              "    </tr>\n",
              "    <tr>\n",
              "      <th>4</th>\n",
              "      <td>e</td>\n",
              "      <td>x</td>\n",
              "      <td>s</td>\n",
              "      <td>g</td>\n",
              "      <td>f</td>\n",
              "      <td>n</td>\n",
              "      <td>f</td>\n",
              "      <td>w</td>\n",
              "      <td>b</td>\n",
              "      <td>k</td>\n",
              "      <td>...</td>\n",
              "      <td>s</td>\n",
              "      <td>w</td>\n",
              "      <td>w</td>\n",
              "      <td>p</td>\n",
              "      <td>w</td>\n",
              "      <td>o</td>\n",
              "      <td>e</td>\n",
              "      <td>n</td>\n",
              "      <td>a</td>\n",
              "      <td>g</td>\n",
              "    </tr>\n",
              "  </tbody>\n",
              "</table>\n",
              "<p>5 rows × 23 columns</p>\n",
              "</div>\n",
              "      <button class=\"colab-df-convert\" onclick=\"convertToInteractive('df-de71105e-836c-49d2-98cf-1066f10874af')\"\n",
              "              title=\"Convert this dataframe to an interactive table.\"\n",
              "              style=\"display:none;\">\n",
              "        \n",
              "  <svg xmlns=\"http://www.w3.org/2000/svg\" height=\"24px\"viewBox=\"0 0 24 24\"\n",
              "       width=\"24px\">\n",
              "    <path d=\"M0 0h24v24H0V0z\" fill=\"none\"/>\n",
              "    <path d=\"M18.56 5.44l.94 2.06.94-2.06 2.06-.94-2.06-.94-.94-2.06-.94 2.06-2.06.94zm-11 1L8.5 8.5l.94-2.06 2.06-.94-2.06-.94L8.5 2.5l-.94 2.06-2.06.94zm10 10l.94 2.06.94-2.06 2.06-.94-2.06-.94-.94-2.06-.94 2.06-2.06.94z\"/><path d=\"M17.41 7.96l-1.37-1.37c-.4-.4-.92-.59-1.43-.59-.52 0-1.04.2-1.43.59L10.3 9.45l-7.72 7.72c-.78.78-.78 2.05 0 2.83L4 21.41c.39.39.9.59 1.41.59.51 0 1.02-.2 1.41-.59l7.78-7.78 2.81-2.81c.8-.78.8-2.07 0-2.86zM5.41 20L4 18.59l7.72-7.72 1.47 1.35L5.41 20z\"/>\n",
              "  </svg>\n",
              "      </button>\n",
              "      \n",
              "  <style>\n",
              "    .colab-df-container {\n",
              "      display:flex;\n",
              "      flex-wrap:wrap;\n",
              "      gap: 12px;\n",
              "    }\n",
              "\n",
              "    .colab-df-convert {\n",
              "      background-color: #E8F0FE;\n",
              "      border: none;\n",
              "      border-radius: 50%;\n",
              "      cursor: pointer;\n",
              "      display: none;\n",
              "      fill: #1967D2;\n",
              "      height: 32px;\n",
              "      padding: 0 0 0 0;\n",
              "      width: 32px;\n",
              "    }\n",
              "\n",
              "    .colab-df-convert:hover {\n",
              "      background-color: #E2EBFA;\n",
              "      box-shadow: 0px 1px 2px rgba(60, 64, 67, 0.3), 0px 1px 3px 1px rgba(60, 64, 67, 0.15);\n",
              "      fill: #174EA6;\n",
              "    }\n",
              "\n",
              "    [theme=dark] .colab-df-convert {\n",
              "      background-color: #3B4455;\n",
              "      fill: #D2E3FC;\n",
              "    }\n",
              "\n",
              "    [theme=dark] .colab-df-convert:hover {\n",
              "      background-color: #434B5C;\n",
              "      box-shadow: 0px 1px 3px 1px rgba(0, 0, 0, 0.15);\n",
              "      filter: drop-shadow(0px 1px 2px rgba(0, 0, 0, 0.3));\n",
              "      fill: #FFFFFF;\n",
              "    }\n",
              "  </style>\n",
              "\n",
              "      <script>\n",
              "        const buttonEl =\n",
              "          document.querySelector('#df-de71105e-836c-49d2-98cf-1066f10874af button.colab-df-convert');\n",
              "        buttonEl.style.display =\n",
              "          google.colab.kernel.accessAllowed ? 'block' : 'none';\n",
              "\n",
              "        async function convertToInteractive(key) {\n",
              "          const element = document.querySelector('#df-de71105e-836c-49d2-98cf-1066f10874af');\n",
              "          const dataTable =\n",
              "            await google.colab.kernel.invokeFunction('convertToInteractive',\n",
              "                                                     [key], {});\n",
              "          if (!dataTable) return;\n",
              "\n",
              "          const docLinkHtml = 'Like what you see? Visit the ' +\n",
              "            '<a target=\"_blank\" href=https://colab.research.google.com/notebooks/data_table.ipynb>data table notebook</a>'\n",
              "            + ' to learn more about interactive tables.';\n",
              "          element.innerHTML = '';\n",
              "          dataTable['output_type'] = 'display_data';\n",
              "          await google.colab.output.renderOutput(dataTable, element);\n",
              "          const docLink = document.createElement('div');\n",
              "          docLink.innerHTML = docLinkHtml;\n",
              "          element.appendChild(docLink);\n",
              "        }\n",
              "      </script>\n",
              "    </div>\n",
              "  </div>\n",
              "  "
            ]
          },
          "metadata": {},
          "execution_count": 3
        }
      ]
    },
    {
      "cell_type": "markdown",
      "source": [
        "##Data exploration and visualization"
      ],
      "metadata": {
        "id": "IeLt8c5akRP-"
      }
    },
    {
      "cell_type": "code",
      "source": [
        "#Data exploration\n",
        "df.dtypes"
      ],
      "metadata": {
        "colab": {
          "base_uri": "https://localhost:8080/"
        },
        "id": "nH4z3LSakT2-",
        "outputId": "fba7ae20-43ab-4f9a-e7b8-48deaea81d18"
      },
      "execution_count": 4,
      "outputs": [
        {
          "output_type": "execute_result",
          "data": {
            "text/plain": [
              "class                       object\n",
              "cap-shape                   object\n",
              "cap-surface                 object\n",
              "cap-color                   object\n",
              "bruises                     object\n",
              "odor                        object\n",
              "gill-attachment             object\n",
              "gill-spacing                object\n",
              "gill-size                   object\n",
              "gill-color                  object\n",
              "stalk-shape                 object\n",
              "stalk-root                  object\n",
              "stalk-surface-above-ring    object\n",
              "stalk-surface-below-ring    object\n",
              "stalk-color-above-ring      object\n",
              "stalk-color-below-ring      object\n",
              "veil-type                   object\n",
              "veil-color                  object\n",
              "ring-number                 object\n",
              "ring-type                   object\n",
              "spore-print-color           object\n",
              "population                  object\n",
              "habitat                     object\n",
              "dtype: object"
            ]
          },
          "metadata": {},
          "execution_count": 4
        }
      ]
    },
    {
      "cell_type": "code",
      "source": [
        "df.describe()"
      ],
      "metadata": {
        "colab": {
          "base_uri": "https://localhost:8080/",
          "height": 300
        },
        "id": "a9zF5qkDkWdm",
        "outputId": "d8aca082-84da-472e-f261-302c902b6540"
      },
      "execution_count": 5,
      "outputs": [
        {
          "output_type": "execute_result",
          "data": {
            "text/plain": [
              "       class cap-shape cap-surface cap-color bruises  odor gill-attachment  \\\n",
              "count   8124      8124        8124      8124    8124  8124            8124   \n",
              "unique     2         6           4        10       2     9               2   \n",
              "top        e         x           y         n       f     n               f   \n",
              "freq    4208      3656        3244      2284    4748  3528            7914   \n",
              "\n",
              "       gill-spacing gill-size gill-color  ... stalk-surface-below-ring  \\\n",
              "count          8124      8124       8124  ...                     8124   \n",
              "unique            2         2         12  ...                        4   \n",
              "top               c         b          b  ...                        s   \n",
              "freq           6812      5612       1728  ...                     4936   \n",
              "\n",
              "       stalk-color-above-ring stalk-color-below-ring veil-type veil-color  \\\n",
              "count                    8124                   8124      8124       8124   \n",
              "unique                      9                      9         1          4   \n",
              "top                         w                      w         p          w   \n",
              "freq                     4464                   4384      8124       7924   \n",
              "\n",
              "       ring-number ring-type spore-print-color population habitat  \n",
              "count         8124      8124              8124       8124    8124  \n",
              "unique           3         5                 9          6       7  \n",
              "top              o         p                 w          v       d  \n",
              "freq          7488      3968              2388       4040    3148  \n",
              "\n",
              "[4 rows x 23 columns]"
            ],
            "text/html": [
              "\n",
              "  <div id=\"df-d485248d-9343-4828-9a42-174810537e33\">\n",
              "    <div class=\"colab-df-container\">\n",
              "      <div>\n",
              "<style scoped>\n",
              "    .dataframe tbody tr th:only-of-type {\n",
              "        vertical-align: middle;\n",
              "    }\n",
              "\n",
              "    .dataframe tbody tr th {\n",
              "        vertical-align: top;\n",
              "    }\n",
              "\n",
              "    .dataframe thead th {\n",
              "        text-align: right;\n",
              "    }\n",
              "</style>\n",
              "<table border=\"1\" class=\"dataframe\">\n",
              "  <thead>\n",
              "    <tr style=\"text-align: right;\">\n",
              "      <th></th>\n",
              "      <th>class</th>\n",
              "      <th>cap-shape</th>\n",
              "      <th>cap-surface</th>\n",
              "      <th>cap-color</th>\n",
              "      <th>bruises</th>\n",
              "      <th>odor</th>\n",
              "      <th>gill-attachment</th>\n",
              "      <th>gill-spacing</th>\n",
              "      <th>gill-size</th>\n",
              "      <th>gill-color</th>\n",
              "      <th>...</th>\n",
              "      <th>stalk-surface-below-ring</th>\n",
              "      <th>stalk-color-above-ring</th>\n",
              "      <th>stalk-color-below-ring</th>\n",
              "      <th>veil-type</th>\n",
              "      <th>veil-color</th>\n",
              "      <th>ring-number</th>\n",
              "      <th>ring-type</th>\n",
              "      <th>spore-print-color</th>\n",
              "      <th>population</th>\n",
              "      <th>habitat</th>\n",
              "    </tr>\n",
              "  </thead>\n",
              "  <tbody>\n",
              "    <tr>\n",
              "      <th>count</th>\n",
              "      <td>8124</td>\n",
              "      <td>8124</td>\n",
              "      <td>8124</td>\n",
              "      <td>8124</td>\n",
              "      <td>8124</td>\n",
              "      <td>8124</td>\n",
              "      <td>8124</td>\n",
              "      <td>8124</td>\n",
              "      <td>8124</td>\n",
              "      <td>8124</td>\n",
              "      <td>...</td>\n",
              "      <td>8124</td>\n",
              "      <td>8124</td>\n",
              "      <td>8124</td>\n",
              "      <td>8124</td>\n",
              "      <td>8124</td>\n",
              "      <td>8124</td>\n",
              "      <td>8124</td>\n",
              "      <td>8124</td>\n",
              "      <td>8124</td>\n",
              "      <td>8124</td>\n",
              "    </tr>\n",
              "    <tr>\n",
              "      <th>unique</th>\n",
              "      <td>2</td>\n",
              "      <td>6</td>\n",
              "      <td>4</td>\n",
              "      <td>10</td>\n",
              "      <td>2</td>\n",
              "      <td>9</td>\n",
              "      <td>2</td>\n",
              "      <td>2</td>\n",
              "      <td>2</td>\n",
              "      <td>12</td>\n",
              "      <td>...</td>\n",
              "      <td>4</td>\n",
              "      <td>9</td>\n",
              "      <td>9</td>\n",
              "      <td>1</td>\n",
              "      <td>4</td>\n",
              "      <td>3</td>\n",
              "      <td>5</td>\n",
              "      <td>9</td>\n",
              "      <td>6</td>\n",
              "      <td>7</td>\n",
              "    </tr>\n",
              "    <tr>\n",
              "      <th>top</th>\n",
              "      <td>e</td>\n",
              "      <td>x</td>\n",
              "      <td>y</td>\n",
              "      <td>n</td>\n",
              "      <td>f</td>\n",
              "      <td>n</td>\n",
              "      <td>f</td>\n",
              "      <td>c</td>\n",
              "      <td>b</td>\n",
              "      <td>b</td>\n",
              "      <td>...</td>\n",
              "      <td>s</td>\n",
              "      <td>w</td>\n",
              "      <td>w</td>\n",
              "      <td>p</td>\n",
              "      <td>w</td>\n",
              "      <td>o</td>\n",
              "      <td>p</td>\n",
              "      <td>w</td>\n",
              "      <td>v</td>\n",
              "      <td>d</td>\n",
              "    </tr>\n",
              "    <tr>\n",
              "      <th>freq</th>\n",
              "      <td>4208</td>\n",
              "      <td>3656</td>\n",
              "      <td>3244</td>\n",
              "      <td>2284</td>\n",
              "      <td>4748</td>\n",
              "      <td>3528</td>\n",
              "      <td>7914</td>\n",
              "      <td>6812</td>\n",
              "      <td>5612</td>\n",
              "      <td>1728</td>\n",
              "      <td>...</td>\n",
              "      <td>4936</td>\n",
              "      <td>4464</td>\n",
              "      <td>4384</td>\n",
              "      <td>8124</td>\n",
              "      <td>7924</td>\n",
              "      <td>7488</td>\n",
              "      <td>3968</td>\n",
              "      <td>2388</td>\n",
              "      <td>4040</td>\n",
              "      <td>3148</td>\n",
              "    </tr>\n",
              "  </tbody>\n",
              "</table>\n",
              "<p>4 rows × 23 columns</p>\n",
              "</div>\n",
              "      <button class=\"colab-df-convert\" onclick=\"convertToInteractive('df-d485248d-9343-4828-9a42-174810537e33')\"\n",
              "              title=\"Convert this dataframe to an interactive table.\"\n",
              "              style=\"display:none;\">\n",
              "        \n",
              "  <svg xmlns=\"http://www.w3.org/2000/svg\" height=\"24px\"viewBox=\"0 0 24 24\"\n",
              "       width=\"24px\">\n",
              "    <path d=\"M0 0h24v24H0V0z\" fill=\"none\"/>\n",
              "    <path d=\"M18.56 5.44l.94 2.06.94-2.06 2.06-.94-2.06-.94-.94-2.06-.94 2.06-2.06.94zm-11 1L8.5 8.5l.94-2.06 2.06-.94-2.06-.94L8.5 2.5l-.94 2.06-2.06.94zm10 10l.94 2.06.94-2.06 2.06-.94-2.06-.94-.94-2.06-.94 2.06-2.06.94z\"/><path d=\"M17.41 7.96l-1.37-1.37c-.4-.4-.92-.59-1.43-.59-.52 0-1.04.2-1.43.59L10.3 9.45l-7.72 7.72c-.78.78-.78 2.05 0 2.83L4 21.41c.39.39.9.59 1.41.59.51 0 1.02-.2 1.41-.59l7.78-7.78 2.81-2.81c.8-.78.8-2.07 0-2.86zM5.41 20L4 18.59l7.72-7.72 1.47 1.35L5.41 20z\"/>\n",
              "  </svg>\n",
              "      </button>\n",
              "      \n",
              "  <style>\n",
              "    .colab-df-container {\n",
              "      display:flex;\n",
              "      flex-wrap:wrap;\n",
              "      gap: 12px;\n",
              "    }\n",
              "\n",
              "    .colab-df-convert {\n",
              "      background-color: #E8F0FE;\n",
              "      border: none;\n",
              "      border-radius: 50%;\n",
              "      cursor: pointer;\n",
              "      display: none;\n",
              "      fill: #1967D2;\n",
              "      height: 32px;\n",
              "      padding: 0 0 0 0;\n",
              "      width: 32px;\n",
              "    }\n",
              "\n",
              "    .colab-df-convert:hover {\n",
              "      background-color: #E2EBFA;\n",
              "      box-shadow: 0px 1px 2px rgba(60, 64, 67, 0.3), 0px 1px 3px 1px rgba(60, 64, 67, 0.15);\n",
              "      fill: #174EA6;\n",
              "    }\n",
              "\n",
              "    [theme=dark] .colab-df-convert {\n",
              "      background-color: #3B4455;\n",
              "      fill: #D2E3FC;\n",
              "    }\n",
              "\n",
              "    [theme=dark] .colab-df-convert:hover {\n",
              "      background-color: #434B5C;\n",
              "      box-shadow: 0px 1px 3px 1px rgba(0, 0, 0, 0.15);\n",
              "      filter: drop-shadow(0px 1px 2px rgba(0, 0, 0, 0.3));\n",
              "      fill: #FFFFFF;\n",
              "    }\n",
              "  </style>\n",
              "\n",
              "      <script>\n",
              "        const buttonEl =\n",
              "          document.querySelector('#df-d485248d-9343-4828-9a42-174810537e33 button.colab-df-convert');\n",
              "        buttonEl.style.display =\n",
              "          google.colab.kernel.accessAllowed ? 'block' : 'none';\n",
              "\n",
              "        async function convertToInteractive(key) {\n",
              "          const element = document.querySelector('#df-d485248d-9343-4828-9a42-174810537e33');\n",
              "          const dataTable =\n",
              "            await google.colab.kernel.invokeFunction('convertToInteractive',\n",
              "                                                     [key], {});\n",
              "          if (!dataTable) return;\n",
              "\n",
              "          const docLinkHtml = 'Like what you see? Visit the ' +\n",
              "            '<a target=\"_blank\" href=https://colab.research.google.com/notebooks/data_table.ipynb>data table notebook</a>'\n",
              "            + ' to learn more about interactive tables.';\n",
              "          element.innerHTML = '';\n",
              "          dataTable['output_type'] = 'display_data';\n",
              "          await google.colab.output.renderOutput(dataTable, element);\n",
              "          const docLink = document.createElement('div');\n",
              "          docLink.innerHTML = docLinkHtml;\n",
              "          element.appendChild(docLink);\n",
              "        }\n",
              "      </script>\n",
              "    </div>\n",
              "  </div>\n",
              "  "
            ]
          },
          "metadata": {},
          "execution_count": 5
        }
      ]
    },
    {
      "cell_type": "code",
      "source": [
        "df.info()"
      ],
      "metadata": {
        "colab": {
          "base_uri": "https://localhost:8080/"
        },
        "id": "4ms4oJ1kkX1o",
        "outputId": "26fccf21-f701-48f1-d147-cf92377d9acc"
      },
      "execution_count": 6,
      "outputs": [
        {
          "output_type": "stream",
          "name": "stdout",
          "text": [
            "<class 'pandas.core.frame.DataFrame'>\n",
            "RangeIndex: 8124 entries, 0 to 8123\n",
            "Data columns (total 23 columns):\n",
            " #   Column                    Non-Null Count  Dtype \n",
            "---  ------                    --------------  ----- \n",
            " 0   class                     8124 non-null   object\n",
            " 1   cap-shape                 8124 non-null   object\n",
            " 2   cap-surface               8124 non-null   object\n",
            " 3   cap-color                 8124 non-null   object\n",
            " 4   bruises                   8124 non-null   object\n",
            " 5   odor                      8124 non-null   object\n",
            " 6   gill-attachment           8124 non-null   object\n",
            " 7   gill-spacing              8124 non-null   object\n",
            " 8   gill-size                 8124 non-null   object\n",
            " 9   gill-color                8124 non-null   object\n",
            " 10  stalk-shape               8124 non-null   object\n",
            " 11  stalk-root                8124 non-null   object\n",
            " 12  stalk-surface-above-ring  8124 non-null   object\n",
            " 13  stalk-surface-below-ring  8124 non-null   object\n",
            " 14  stalk-color-above-ring    8124 non-null   object\n",
            " 15  stalk-color-below-ring    8124 non-null   object\n",
            " 16  veil-type                 8124 non-null   object\n",
            " 17  veil-color                8124 non-null   object\n",
            " 18  ring-number               8124 non-null   object\n",
            " 19  ring-type                 8124 non-null   object\n",
            " 20  spore-print-color         8124 non-null   object\n",
            " 21  population                8124 non-null   object\n",
            " 22  habitat                   8124 non-null   object\n",
            "dtypes: object(23)\n",
            "memory usage: 1.4+ MB\n"
          ]
        }
      ]
    },
    {
      "cell_type": "code",
      "source": [
        "df.isnull().sum()"
      ],
      "metadata": {
        "colab": {
          "base_uri": "https://localhost:8080/"
        },
        "id": "pIiMjH-YkY1R",
        "outputId": "495b8a50-d674-4b92-9ed6-1df0db3f2081"
      },
      "execution_count": 7,
      "outputs": [
        {
          "output_type": "execute_result",
          "data": {
            "text/plain": [
              "class                       0\n",
              "cap-shape                   0\n",
              "cap-surface                 0\n",
              "cap-color                   0\n",
              "bruises                     0\n",
              "odor                        0\n",
              "gill-attachment             0\n",
              "gill-spacing                0\n",
              "gill-size                   0\n",
              "gill-color                  0\n",
              "stalk-shape                 0\n",
              "stalk-root                  0\n",
              "stalk-surface-above-ring    0\n",
              "stalk-surface-below-ring    0\n",
              "stalk-color-above-ring      0\n",
              "stalk-color-below-ring      0\n",
              "veil-type                   0\n",
              "veil-color                  0\n",
              "ring-number                 0\n",
              "ring-type                   0\n",
              "spore-print-color           0\n",
              "population                  0\n",
              "habitat                     0\n",
              "dtype: int64"
            ]
          },
          "metadata": {},
          "execution_count": 7
        }
      ]
    },
    {
      "cell_type": "markdown",
      "source": [
        "**Data Description:**<br>\n",
        "The dataset contains 22 input variables, one response, and 8124 observations. The outcome variable is whether the species is being identified as edible or poisonous. All the input variables are nominal variables and each of them describes a feature of the sample. There are no missing values in the data."
      ],
      "metadata": {
        "id": "Fv46hbFnlG3n"
      }
    },
    {
      "cell_type": "markdown",
      "source": [
        "**Data understanding:**<br>\n",
        "The 22 attributes are all categorical variables, each of which describes a physical characteristic of the mushroom sample. Five out of the 22 input variables are binary, for example, the stalk shape of the mushrooms can be either enlarging or tapering. There are 16 out of the 22  input variables containing more than two unique possible values, and we can transform all the categorical variables in the dataset into numerical variables. For example, the veil-color of the mushroom can be either brown (n), orange (o), white (w), or yellow (y), thus that attribute can be converted into four numerical labels: brown - 0; orange - 1; white - 2; yellow - 3. "
      ],
      "metadata": {
        "id": "ey3CfLviuyZn"
      }
    },
    {
      "cell_type": "code",
      "source": [
        "#Data visualization\n",
        "#Count of Edible and Poisonous mushrooms\n",
        "plot = sns.countplot(data=df, x='class',hue='class') #reponse variable\n",
        "plt.title('Edible vs Poisonous' ,fontsize=20)\n",
        "plt.show() "
      ],
      "metadata": {
        "colab": {
          "base_uri": "https://localhost:8080/",
          "height": 300
        },
        "id": "2BbWCIuIkZ4u",
        "outputId": "770940a5-8947-4e3d-f841-49b883242957"
      },
      "execution_count": 8,
      "outputs": [
        {
          "output_type": "display_data",
          "data": {
            "text/plain": [
              "<Figure size 432x288 with 1 Axes>"
            ],
            "image/png": "[encoded data removed]"
          },
          "metadata": {
            "needs_background": "light"
          }
        }
      ]
    },
    {
      "cell_type": "markdown",
      "source": [
        "**Data Visualization:**<br>\n",
        "The response variable of the dataset focuses on whether the mushroom species can be eaten or not. In the count plot above, blue means poisonous (p) and orange means edible (e). It can be seen that the two classes are present in similar proportions. "
      ],
      "metadata": {
        "id": "qOKvdolRmBie"
      }
    },
    {
      "cell_type": "code",
      "source": [
        "#Determining unique value\n",
        "df['cap-shape'].unique()"
      ],
      "metadata": {
        "colab": {
          "base_uri": "https://localhost:8080/"
        },
        "id": "BFeM8ILPkbWO",
        "outputId": "b36339ed-98e4-45eb-ff21-812d53595010"
      },
      "execution_count": 9,
      "outputs": [
        {
          "output_type": "execute_result",
          "data": {
            "text/plain": [
              "array(['x', 'b', 's', 'f', 'k', 'c'], dtype=object)"
            ]
          },
          "metadata": {},
          "execution_count": 9
        }
      ]
    },
    {
      "cell_type": "code",
      "source": [
        "df['veil-type'].unique()"
      ],
      "metadata": {
        "colab": {
          "base_uri": "https://localhost:8080/"
        },
        "id": "Ju88U4MUkdov",
        "outputId": "d16566dc-591d-47a1-8e8f-b86310cf69f6"
      },
      "execution_count": 10,
      "outputs": [
        {
          "output_type": "execute_result",
          "data": {
            "text/plain": [
              "array(['p'], dtype=object)"
            ]
          },
          "metadata": {},
          "execution_count": 10
        }
      ]
    },
    {
      "cell_type": "code",
      "source": [
        "df['gill-attachment'].unique()"
      ],
      "metadata": {
        "colab": {
          "base_uri": "https://localhost:8080/"
        },
        "id": "ns7rG8kGkeB3",
        "outputId": "52ceb533-5cfc-4677-946b-e11cbb91d1a1"
      },
      "execution_count": 11,
      "outputs": [
        {
          "output_type": "execute_result",
          "data": {
            "text/plain": [
              "array(['f', 'a'], dtype=object)"
            ]
          },
          "metadata": {},
          "execution_count": 11
        }
      ]
    },
    {
      "cell_type": "code",
      "source": [
        "df['stalk-root'].unique()"
      ],
      "metadata": {
        "colab": {
          "base_uri": "https://localhost:8080/"
        },
        "id": "YlbXoUKzkfKX",
        "outputId": "bff26db4-6f0a-4382-c200-e1ad9e0579ed"
      },
      "execution_count": 12,
      "outputs": [
        {
          "output_type": "execute_result",
          "data": {
            "text/plain": [
              "array(['e', 'c', 'b', 'r', '?'], dtype=object)"
            ]
          },
          "metadata": {},
          "execution_count": 12
        }
      ]
    },
    {
      "cell_type": "code",
      "source": [
        "#Count of Mushroom cap-shape\n",
        "plt.figure(figsize=(15, 8))\n",
        "plot = sns.countplot(data=df, x='cap-shape',hue='class')  \n",
        "plt.title('cap-shape' ,fontsize=20)\n",
        "plt.show()     "
      ],
      "metadata": {
        "colab": {
          "base_uri": "https://localhost:8080/",
          "height": 518
        },
        "id": "7EmMc6dXkgTx",
        "outputId": "df806389-67e2-41bd-f286-2c032f7ebd6e"
      },
      "execution_count": 22,
      "outputs": [
        {
          "output_type": "display_data",
          "data": {
            "text/plain": [
              "<Figure size 1080x576 with 1 Axes>"
            ],
            "image/png": "[encoded data removed]"
          },
          "metadata": {
            "needs_background": "light"
          }
        }
      ]
    },
    {
      "cell_type": "markdown",
      "source": [
        "Mushroom caps come in many different shapes. The count plot above shows the distribution of the shape of the mushroom caps in the data. Blue means poisonous, orange means edible. Convex, flat, and knobbed represent the vast majority of the data in this section and are distributed in poisonous and edible."
      ],
      "metadata": {
        "id": "3bpWuCrJmtNY"
      }
    },
    {
      "cell_type": "code",
      "source": [
        "#Count of Mushroom caps-surface\n",
        "plt.figure(figsize=(15, 8))\n",
        "plot = sns.countplot(data=df, x='cap-surface',hue='class') \n",
        "plt.title('cap surface' ,fontsize=20)\n",
        "plt.show() "
      ],
      "metadata": {
        "colab": {
          "base_uri": "https://localhost:8080/",
          "height": 518
        },
        "id": "TAlHmD9FkhyA",
        "outputId": "381cc22f-9434-4b7b-9425-adda7a240ca7"
      },
      "execution_count": 14,
      "outputs": [
        {
          "output_type": "display_data",
          "data": {
            "text/plain": [
              "<Figure size 1080x576 with 1 Axes>"
            ],
            "image/png": "[encoded data removed]"
          },
          "metadata": {
            "needs_background": "light"
          }
        }
      ]
    },
    {
      "cell_type": "markdown",
      "source": [
        "Only four cap-surfaces were recorded in this dataset, and mushrooms with grooves surfaces are rare. Also see that the other three mushroom surfaces contain both poisonous and edible, grooves surfaces are only poisonous."
      ],
      "metadata": {
        "id": "INIhwQq9nN5R"
      }
    },
    {
      "cell_type": "code",
      "source": [
        "#Count of  Mushroom cap-color\n",
        "plt.figure(figsize=(15, 8))\n",
        "plot = sns.countplot(data=df, x='cap-color',hue='class') \n",
        "plt.title('cap color' ,fontsize=20)\n",
        "plt.show()"
      ],
      "metadata": {
        "colab": {
          "base_uri": "https://localhost:8080/",
          "height": 518
        },
        "id": "50o2PTFiklbv",
        "outputId": "cf620e85-5e41-4c2f-f159-7fb4039458d3"
      },
      "execution_count": 15,
      "outputs": [
        {
          "output_type": "display_data",
          "data": {
            "text/plain": [
              "<Figure size 1080x576 with 1 Axes>"
            ],
            "image/png": "[encoded data removed]"
          },
          "metadata": {
            "needs_background": "light"
          }
        }
      ]
    },
    {
      "cell_type": "markdown",
      "source": [
        "The cap-color records the ten colors of the mushroom cap, in the count plot above we can clearly see that although samples with green and purple color mushroom caps are rare, they are all poisonous. Pink and buff poisonous mushrooms greatly outnumber edible ones. Most of the mushrooms that can be eaten are brown, white and gray in color."
      ],
      "metadata": {
        "id": "qOyBtykdnZEY"
      }
    },
    {
      "cell_type": "code",
      "source": [
        "plt.figure(figsize=(15, 8))\n",
        "plot = sns.countplot(data=df, x='veil-type',hue='class') \n",
        "plt.title('veil-type' ,fontsize=20)\n",
        "plt.show()"
      ],
      "metadata": {
        "colab": {
          "base_uri": "https://localhost:8080/",
          "height": 518
        },
        "id": "ZqANbX4Ckl2u",
        "outputId": "32daad64-8dae-46a2-b4db-0a527efb22c8"
      },
      "execution_count": 16,
      "outputs": [
        {
          "output_type": "display_data",
          "data": {
            "text/plain": [
              "<Figure size 1080x576 with 1 Axes>"
            ],
            "image/png": "[encoded data removed]"
          },
          "metadata": {
            "needs_background": "light"
          }
        }
      ]
    },
    {
      "cell_type": "code",
      "source": [
        "#Percentage of ring-number of mushroom\n",
        "df['ring-number'].value_counts().plot(kind='pie', autopct='%.2f%%')"
      ],
      "metadata": {
        "colab": {
          "base_uri": "https://localhost:8080/",
          "height": 265
        },
        "id": "F5fK1fBiknU3",
        "outputId": "cf7c47a0-7a04-4cf3-efad-d0e2cd6816b2"
      },
      "execution_count": 17,
      "outputs": [
        {
          "output_type": "execute_result",
          "data": {
            "text/plain": [
              "<matplotlib.axes._subplots.AxesSubplot at 0x7f665accb2b0>"
            ]
          },
          "metadata": {},
          "execution_count": 17
        },
        {
          "output_type": "display_data",
          "data": {
            "text/plain": [
              "<Figure size 432x288 with 1 Axes>"
            ],
            "image/png": "[encoded data removed]"
          },
          "metadata": {}
        }
      ]
    },
    {
      "cell_type": "markdown",
      "source": [
        "The pie chart above shows the distribution of the number of the rings on a mushroom. It can be seen that 92.17% of mushrooms have only one ring, which counts as the majority group of this attribute. About 7.39% of mushrooms have two rings, and the rest 0.44% of the mushrooms do not have any rings. "
      ],
      "metadata": {
        "id": "qw5z8npxni8h"
      }
    },
    {
      "cell_type": "code",
      "source": [
        "#stalk-root\n",
        "plt.figure(figsize=(15, 8))\n",
        "plot = sns.countplot(data=df, x='stalk-root',hue='class') \n",
        "plt.title('stalk-root' ,fontsize=20)\n",
        "plt.show()"
      ],
      "metadata": {
        "colab": {
          "base_uri": "https://localhost:8080/",
          "height": 518
        },
        "id": "917KQ_8rkoh-",
        "outputId": "e101a275-4eeb-4269-d34c-aebabc3619dd"
      },
      "execution_count": 18,
      "outputs": [
        {
          "output_type": "display_data",
          "data": {
            "text/plain": [
              "<Figure size 1080x576 with 1 Axes>"
            ],
            "image/png": "[encoded data removed]"
          },
          "metadata": {
            "needs_background": "light"
          }
        }
      ]
    },
    {
      "cell_type": "code",
      "source": [
        "plt.figure(figsize=(15, 8))\n",
        "plot = sns.countplot(data=df, x='habitat',hue='class') \n",
        "plt.title('habitat' ,fontsize=20)\n",
        "plt.show() "
      ],
      "metadata": {
        "colab": {
          "base_uri": "https://localhost:8080/",
          "height": 518
        },
        "id": "7L5SL35DkpmP",
        "outputId": "87eb9715-e2c8-4c4b-bb05-7a3e06b9c22d"
      },
      "execution_count": 19,
      "outputs": [
        {
          "output_type": "display_data",
          "data": {
            "text/plain": [
              "<Figure size 1080x576 with 1 Axes>"
            ],
            "image/png": "[encoded data removed]"
          },
          "metadata": {
            "needs_background": "light"
          }
        }
      ]
    },
    {
      "cell_type": "markdown",
      "source": [
        "**Data Processing:**<br>\n",
        "Because the 23 variables of this data are all categorical variables, which are not good for analysis in subsequent work, we coded the categorical variables as numerical variables. The table below shows the dataframe after encoding. After that we can use the heat map to see the relationship between the data."
      ],
      "metadata": {
        "id": "GE7bq8oBn5pW"
      }
    },
    {
      "cell_type": "code",
      "source": [
        "from sklearn import preprocessing\n",
        "#encoder the data from categorical variable to numrical variable\n",
        "le = preprocessing.LabelEncoder()\n",
        "df1 =df.apply(le.fit_transform)\n",
        "df1\n",
        "#p=1, e =0"
      ],
      "metadata": {
        "colab": {
          "base_uri": "https://localhost:8080/",
          "height": 520
        },
        "id": "KleEVqhKkqpA",
        "outputId": "04a5e068-2854-4753-e3f4-d6b3fb4b734d"
      },
      "execution_count": 20,
      "outputs": [
        {
          "output_type": "execute_result",
          "data": {
            "text/plain": [
              "      class  cap-shape  cap-surface  cap-color  bruises  odor  \\\n",
              "0         1          5            2          4        1     6   \n",
              "1         0          5            2          9        1     0   \n",
              "2         0          0            2          8        1     3   \n",
              "3         1          5            3          8        1     6   \n",
              "4         0          5            2          3        0     5   \n",
              "...     ...        ...          ...        ...      ...   ...   \n",
              "8119      0          3            2          4        0     5   \n",
              "8120      0          5            2          4        0     5   \n",
              "8121      0          2            2          4        0     5   \n",
              "8122      1          3            3          4        0     8   \n",
              "8123      0          5            2          4        0     5   \n",
              "\n",
              "      gill-attachment  gill-spacing  gill-size  gill-color  ...  \\\n",
              "0                   1             0          1           4  ...   \n",
              "1                   1             0          0           4  ...   \n",
              "2                   1             0          0           5  ...   \n",
              "3                   1             0          1           5  ...   \n",
              "4                   1             1          0           4  ...   \n",
              "...               ...           ...        ...         ...  ...   \n",
              "8119                0             0          0          11  ...   \n",
              "8120                0             0          0          11  ...   \n",
              "8121                0             0          0           5  ...   \n",
              "8122                1             0          1           0  ...   \n",
              "8123                0             0          0          11  ...   \n",
              "\n",
              "      stalk-surface-below-ring  stalk-color-above-ring  \\\n",
              "0                            2                       7   \n",
              "1                            2                       7   \n",
              "2                            2                       7   \n",
              "3                            2                       7   \n",
              "4                            2                       7   \n",
              "...                        ...                     ...   \n",
              "8119                         2                       5   \n",
              "8120                         2                       5   \n",
              "8121                         2                       5   \n",
              "8122                         1                       7   \n",
              "8123                         2                       5   \n",
              "\n",
              "      stalk-color-below-ring  veil-type  veil-color  ring-number  ring-type  \\\n",
              "0                          7          0           2            1          4   \n",
              "1                          7          0           2            1          4   \n",
              "2                          7          0           2            1          4   \n",
              "3                          7          0           2            1          4   \n",
              "4                          7          0           2            1          0   \n",
              "...                      ...        ...         ...          ...        ...   \n",
              "8119                       5          0           1            1          4   \n",
              "8120                       5          0           0            1          4   \n",
              "8121                       5          0           1            1          4   \n",
              "8122                       7          0           2            1          0   \n",
              "8123                       5          0           1            1          4   \n",
              "\n",
              "      spore-print-color  population  habitat  \n",
              "0                     2           3        5  \n",
              "1                     3           2        1  \n",
              "2                     3           2        3  \n",
              "3                     2           3        5  \n",
              "4                     3           0        1  \n",
              "...                 ...         ...      ...  \n",
              "8119                  0           1        2  \n",
              "8120                  0           4        2  \n",
              "8121                  0           1        2  \n",
              "8122                  7           4        2  \n",
              "8123                  4           1        2  \n",
              "\n",
              "[8124 rows x 23 columns]"
            ],
            "text/html": [
              "\n",
              "  <div id=\"df-252a0279-e9ec-43d3-a540-bec61b669f81\">\n",
              "    <div class=\"colab-df-container\">\n",
              "      <div>\n",
              "<style scoped>\n",
              "    .dataframe tbody tr th:only-of-type {\n",
              "        vertical-align: middle;\n",
              "    }\n",
              "\n",
              "    .dataframe tbody tr th {\n",
              "        vertical-align: top;\n",
              "    }\n",
              "\n",
              "    .dataframe thead th {\n",
              "        text-align: right;\n",
              "    }\n",
              "</style>\n",
              "<table border=\"1\" class=\"dataframe\">\n",
              "  <thead>\n",
              "    <tr style=\"text-align: right;\">\n",
              "      <th></th>\n",
              "      <th>class</th>\n",
              "      <th>cap-shape</th>\n",
              "      <th>cap-surface</th>\n",
              "      <th>cap-color</th>\n",
              "      <th>bruises</th>\n",
              "      <th>odor</th>\n",
              "      <th>gill-attachment</th>\n",
              "      <th>gill-spacing</th>\n",
              "      <th>gill-size</th>\n",
              "      <th>gill-color</th>\n",
              "      <th>...</th>\n",
              "      <th>stalk-surface-below-ring</th>\n",
              "      <th>stalk-color-above-ring</th>\n",
              "      <th>stalk-color-below-ring</th>\n",
              "      <th>veil-type</th>\n",
              "      <th>veil-color</th>\n",
              "      <th>ring-number</th>\n",
              "      <th>ring-type</th>\n",
              "      <th>spore-print-color</th>\n",
              "      <th>population</th>\n",
              "      <th>habitat</th>\n",
              "    </tr>\n",
              "  </thead>\n",
              "  <tbody>\n",
              "    <tr>\n",
              "      <th>0</th>\n",
              "      <td>1</td>\n",
              "      <td>5</td>\n",
              "      <td>2</td>\n",
              "      <td>4</td>\n",
              "      <td>1</td>\n",
              "      <td>6</td>\n",
              "      <td>1</td>\n",
              "      <td>0</td>\n",
              "      <td>1</td>\n",
              "      <td>4</td>\n",
              "      <td>...</td>\n",
              "      <td>2</td>\n",
              "      <td>7</td>\n",
              "      <td>7</td>\n",
              "      <td>0</td>\n",
              "      <td>2</td>\n",
              "      <td>1</td>\n",
              "      <td>4</td>\n",
              "      <td>2</td>\n",
              "      <td>3</td>\n",
              "      <td>5</td>\n",
              "    </tr>\n",
              "    <tr>\n",
              "      <th>1</th>\n",
              "      <td>0</td>\n",
              "      <td>5</td>\n",
              "      <td>2</td>\n",
              "      <td>9</td>\n",
              "      <td>1</td>\n",
              "      <td>0</td>\n",
              "      <td>1</td>\n",
              "      <td>0</td>\n",
              "      <td>0</td>\n",
              "      <td>4</td>\n",
              "      <td>...</td>\n",
              "      <td>2</td>\n",
              "      <td>7</td>\n",
              "      <td>7</td>\n",
              "      <td>0</td>\n",
              "      <td>2</td>\n",
              "      <td>1</td>\n",
              "      <td>4</td>\n",
              "      <td>3</td>\n",
              "      <td>2</td>\n",
              "      <td>1</td>\n",
              "    </tr>\n",
              "    <tr>\n",
              "      <th>2</th>\n",
              "      <td>0</td>\n",
              "      <td>0</td>\n",
              "      <td>2</td>\n",
              "      <td>8</td>\n",
              "      <td>1</td>\n",
              "      <td>3</td>\n",
              "      <td>1</td>\n",
              "      <td>0</td>\n",
              "      <td>0</td>\n",
              "      <td>5</td>\n",
              "      <td>...</td>\n",
              "      <td>2</td>\n",
              "      <td>7</td>\n",
              "      <td>7</td>\n",
              "      <td>0</td>\n",
              "      <td>2</td>\n",
              "      <td>1</td>\n",
              "      <td>4</td>\n",
              "      <td>3</td>\n",
              "      <td>2</td>\n",
              "      <td>3</td>\n",
              "    </tr>\n",
              "    <tr>\n",
              "      <th>3</th>\n",
              "      <td>1</td>\n",
              "      <td>5</td>\n",
              "      <td>3</td>\n",
              "      <td>8</td>\n",
              "      <td>1</td>\n",
              "      <td>6</td>\n",
              "      <td>1</td>\n",
              "      <td>0</td>\n",
              "      <td>1</td>\n",
              "      <td>5</td>\n",
              "      <td>...</td>\n",
              "      <td>2</td>\n",
              "      <td>7</td>\n",
              "      <td>7</td>\n",
              "      <td>0</td>\n",
              "      <td>2</td>\n",
              "      <td>1</td>\n",
              "      <td>4</td>\n",
              "      <td>2</td>\n",
              "      <td>3</td>\n",
              "      <td>5</td>\n",
              "    </tr>\n",
              "    <tr>\n",
              "      <th>4</th>\n",
              "      <td>0</td>\n",
              "      <td>5</td>\n",
              "      <td>2</td>\n",
              "      <td>3</td>\n",
              "      <td>0</td>\n",
              "      <td>5</td>\n",
              "      <td>1</td>\n",
              "      <td>1</td>\n",
              "      <td>0</td>\n",
              "      <td>4</td>\n",
              "      <td>...</td>\n",
              "      <td>2</td>\n",
              "      <td>7</td>\n",
              "      <td>7</td>\n",
              "      <td>0</td>\n",
              "      <td>2</td>\n",
              "      <td>1</td>\n",
              "      <td>0</td>\n",
              "      <td>3</td>\n",
              "      <td>0</td>\n",
              "      <td>1</td>\n",
              "    </tr>\n",
              "    <tr>\n",
              "      <th>...</th>\n",
              "      <td>...</td>\n",
              "      <td>...</td>\n",
              "      <td>...</td>\n",
              "      <td>...</td>\n",
              "      <td>...</td>\n",
              "      <td>...</td>\n",
              "      <td>...</td>\n",
              "      <td>...</td>\n",
              "      <td>...</td>\n",
              "      <td>...</td>\n",
              "      <td>...</td>\n",
              "      <td>...</td>\n",
              "      <td>...</td>\n",
              "      <td>...</td>\n",
              "      <td>...</td>\n",
              "      <td>...</td>\n",
              "      <td>...</td>\n",
              "      <td>...</td>\n",
              "      <td>...</td>\n",
              "      <td>...</td>\n",
              "      <td>...</td>\n",
              "    </tr>\n",
              "    <tr>\n",
              "      <th>8119</th>\n",
              "      <td>0</td>\n",
              "      <td>3</td>\n",
              "      <td>2</td>\n",
              "      <td>4</td>\n",
              "      <td>0</td>\n",
              "      <td>5</td>\n",
              "      <td>0</td>\n",
              "      <td>0</td>\n",
              "      <td>0</td>\n",
              "      <td>11</td>\n",
              "      <td>...</td>\n",
              "      <td>2</td>\n",
              "      <td>5</td>\n",
              "      <td>5</td>\n",
              "      <td>0</td>\n",
              "      <td>1</td>\n",
              "      <td>1</td>\n",
              "      <td>4</td>\n",
              "      <td>0</td>\n",
              "      <td>1</td>\n",
              "      <td>2</td>\n",
              "    </tr>\n",
              "    <tr>\n",
              "      <th>8120</th>\n",
              "      <td>0</td>\n",
              "      <td>5</td>\n",
              "      <td>2</td>\n",
              "      <td>4</td>\n",
              "      <td>0</td>\n",
              "      <td>5</td>\n",
              "      <td>0</td>\n",
              "      <td>0</td>\n",
              "      <td>0</td>\n",
              "      <td>11</td>\n",
              "      <td>...</td>\n",
              "      <td>2</td>\n",
              "      <td>5</td>\n",
              "      <td>5</td>\n",
              "      <td>0</td>\n",
              "      <td>0</td>\n",
              "      <td>1</td>\n",
              "      <td>4</td>\n",
              "      <td>0</td>\n",
              "      <td>4</td>\n",
              "      <td>2</td>\n",
              "    </tr>\n",
              "    <tr>\n",
              "      <th>8121</th>\n",
              "      <td>0</td>\n",
              "      <td>2</td>\n",
              "      <td>2</td>\n",
              "      <td>4</td>\n",
              "      <td>0</td>\n",
              "      <td>5</td>\n",
              "      <td>0</td>\n",
              "      <td>0</td>\n",
              "      <td>0</td>\n",
              "      <td>5</td>\n",
              "      <td>...</td>\n",
              "      <td>2</td>\n",
              "      <td>5</td>\n",
              "      <td>5</td>\n",
              "      <td>0</td>\n",
              "      <td>1</td>\n",
              "      <td>1</td>\n",
              "      <td>4</td>\n",
              "      <td>0</td>\n",
              "      <td>1</td>\n",
              "      <td>2</td>\n",
              "    </tr>\n",
              "    <tr>\n",
              "      <th>8122</th>\n",
              "      <td>1</td>\n",
              "      <td>3</td>\n",
              "      <td>3</td>\n",
              "      <td>4</td>\n",
              "      <td>0</td>\n",
              "      <td>8</td>\n",
              "      <td>1</td>\n",
              "      <td>0</td>\n",
              "      <td>1</td>\n",
              "      <td>0</td>\n",
              "      <td>...</td>\n",
              "      <td>1</td>\n",
              "      <td>7</td>\n",
              "      <td>7</td>\n",
              "      <td>0</td>\n",
              "      <td>2</td>\n",
              "      <td>1</td>\n",
              "      <td>0</td>\n",
              "      <td>7</td>\n",
              "      <td>4</td>\n",
              "      <td>2</td>\n",
              "    </tr>\n",
              "    <tr>\n",
              "      <th>8123</th>\n",
              "      <td>0</td>\n",
              "      <td>5</td>\n",
              "      <td>2</td>\n",
              "      <td>4</td>\n",
              "      <td>0</td>\n",
              "      <td>5</td>\n",
              "      <td>0</td>\n",
              "      <td>0</td>\n",
              "      <td>0</td>\n",
              "      <td>11</td>\n",
              "      <td>...</td>\n",
              "      <td>2</td>\n",
              "      <td>5</td>\n",
              "      <td>5</td>\n",
              "      <td>0</td>\n",
              "      <td>1</td>\n",
              "      <td>1</td>\n",
              "      <td>4</td>\n",
              "      <td>4</td>\n",
              "      <td>1</td>\n",
              "      <td>2</td>\n",
              "    </tr>\n",
              "  </tbody>\n",
              "</table>\n",
              "<p>8124 rows × 23 columns</p>\n",
              "</div>\n",
              "      <button class=\"colab-df-convert\" onclick=\"convertToInteractive('df-252a0279-e9ec-43d3-a540-bec61b669f81')\"\n",
              "              title=\"Convert this dataframe to an interactive table.\"\n",
              "              style=\"display:none;\">\n",
              "        \n",
              "  <svg xmlns=\"http://www.w3.org/2000/svg\" height=\"24px\"viewBox=\"0 0 24 24\"\n",
              "       width=\"24px\">\n",
              "    <path d=\"M0 0h24v24H0V0z\" fill=\"none\"/>\n",
              "    <path d=\"M18.56 5.44l.94 2.06.94-2.06 2.06-.94-2.06-.94-.94-2.06-.94 2.06-2.06.94zm-11 1L8.5 8.5l.94-2.06 2.06-.94-2.06-.94L8.5 2.5l-.94 2.06-2.06.94zm10 10l.94 2.06.94-2.06 2.06-.94-2.06-.94-.94-2.06-.94 2.06-2.06.94z\"/><path d=\"M17.41 7.96l-1.37-1.37c-.4-.4-.92-.59-1.43-.59-.52 0-1.04.2-1.43.59L10.3 9.45l-7.72 7.72c-.78.78-.78 2.05 0 2.83L4 21.41c.39.39.9.59 1.41.59.51 0 1.02-.2 1.41-.59l7.78-7.78 2.81-2.81c.8-.78.8-2.07 0-2.86zM5.41 20L4 18.59l7.72-7.72 1.47 1.35L5.41 20z\"/>\n",
              "  </svg>\n",
              "      </button>\n",
              "      \n",
              "  <style>\n",
              "    .colab-df-container {\n",
              "      display:flex;\n",
              "      flex-wrap:wrap;\n",
              "      gap: 12px;\n",
              "    }\n",
              "\n",
              "    .colab-df-convert {\n",
              "      background-color: #E8F0FE;\n",
              "      border: none;\n",
              "      border-radius: 50%;\n",
              "      cursor: pointer;\n",
              "      display: none;\n",
              "      fill: #1967D2;\n",
              "      height: 32px;\n",
              "      padding: 0 0 0 0;\n",
              "      width: 32px;\n",
              "    }\n",
              "\n",
              "    .colab-df-convert:hover {\n",
              "      background-color: #E2EBFA;\n",
              "      box-shadow: 0px 1px 2px rgba(60, 64, 67, 0.3), 0px 1px 3px 1px rgba(60, 64, 67, 0.15);\n",
              "      fill: #174EA6;\n",
              "    }\n",
              "\n",
              "    [theme=dark] .colab-df-convert {\n",
              "      background-color: #3B4455;\n",
              "      fill: #D2E3FC;\n",
              "    }\n",
              "\n",
              "    [theme=dark] .colab-df-convert:hover {\n",
              "      background-color: #434B5C;\n",
              "      box-shadow: 0px 1px 3px 1px rgba(0, 0, 0, 0.15);\n",
              "      filter: drop-shadow(0px 1px 2px rgba(0, 0, 0, 0.3));\n",
              "      fill: #FFFFFF;\n",
              "    }\n",
              "  </style>\n",
              "\n",
              "      <script>\n",
              "        const buttonEl =\n",
              "          document.querySelector('#df-252a0279-e9ec-43d3-a540-bec61b669f81 button.colab-df-convert');\n",
              "        buttonEl.style.display =\n",
              "          google.colab.kernel.accessAllowed ? 'block' : 'none';\n",
              "\n",
              "        async function convertToInteractive(key) {\n",
              "          const element = document.querySelector('#df-252a0279-e9ec-43d3-a540-bec61b669f81');\n",
              "          const dataTable =\n",
              "            await google.colab.kernel.invokeFunction('convertToInteractive',\n",
              "                                                     [key], {});\n",
              "          if (!dataTable) return;\n",
              "\n",
              "          const docLinkHtml = 'Like what you see? Visit the ' +\n",
              "            '<a target=\"_blank\" href=https://colab.research.google.com/notebooks/data_table.ipynb>data table notebook</a>'\n",
              "            + ' to learn more about interactive tables.';\n",
              "          element.innerHTML = '';\n",
              "          dataTable['output_type'] = 'display_data';\n",
              "          await google.colab.output.renderOutput(dataTable, element);\n",
              "          const docLink = document.createElement('div');\n",
              "          docLink.innerHTML = docLinkHtml;\n",
              "          element.appendChild(docLink);\n",
              "        }\n",
              "      </script>\n",
              "    </div>\n",
              "  </div>\n",
              "  "
            ]
          },
          "metadata": {},
          "execution_count": 20
        }
      ]
    },
    {
      "cell_type": "code",
      "source": [
        "#corr for heatmap\n",
        "corr = df1.corr()\n",
        "plt.figure(figsize=(16,10)) \n",
        "ax = sns.heatmap(data = corr, annot = True)\n",
        "plt.title('heatmap for the data' ,fontsize=20)\n",
        "plt.show()"
      ],
      "metadata": {
        "colab": {
          "base_uri": "https://localhost:8080/",
          "height": 724
        },
        "id": "TqjO-ABfkvfn",
        "outputId": "e37fb6e8-765a-4a34-ee6e-73cbb967a705"
      },
      "execution_count": 23,
      "outputs": [
        {
          "output_type": "display_data",
          "data": {
            "text/plain": [
              "<Figure size 1152x720 with 2 Axes>"
            ],
            "image/png": "[encoded data removed]"
          },
          "metadata": {
            "needs_background": "light"
          }
        }
      ]
    },
    {
      "cell_type": "markdown",
      "source": [
        "The heat map shows that there is no relationship between veil-type and other variables, because all the samples have the same veil-type. In this analysis, we can delete veil-type to reduce the workload.<br>\n",
        "\n",
        "The correlation between veil-color and gill-attachment is 0.9, which means those two variables contain a lot of overlap in information. It seems that no variables have a very strong negative linear relationship.\n"
      ],
      "metadata": {
        "id": "1CK8D7mxoSan"
      }
    },
    {
      "cell_type": "markdown",
      "source": [
        "**Dimension Reduction:**<br>\n",
        "All of the 8124 observations share the same veil-type, so that variable is not correlated to the target prediction, and the column of veil-type should be dropped to reduce redundancy. The high correlation coefficient between veil-color and gill-attachment (0.9) indicates the strong positive linear relationship between those two variables, so the column “veil-color” is going to be removed to avoid multicollinearity problems.<br>\n",
        "\n",
        "After the dimension reduction process, the dataset contains 20 input variables, one response, and 8124 observations."
      ],
      "metadata": {
        "id": "gHJkb6xnobOQ"
      }
    },
    {
      "cell_type": "code",
      "source": [
        "# dimension reduction\n",
        "df1 = df1.drop(['veil-type','veil-color'], axis=1)\n",
        "X = df1.iloc[:,1:21] \n",
        "y = df1.iloc[:, 0]"
      ],
      "metadata": {
        "id": "W7H_Up0XojLX"
      },
      "execution_count": 24,
      "outputs": []
    },
    {
      "cell_type": "markdown",
      "source": [
        "**Data Partition:**<br>\n",
        "The dataset now includes 20 input variables and one response, each has 8124 observations. The column ‘class’ contains the target variable, and the rest of the columns contain the predictor variables of the model. The dataset is randomly divided into training (75%) and validation (25%) sets. After the data partition process, there are 20 input variables with 6093 records and one response variable with 6093 records in the training sets, while the validation sets contain 20 input variables and one response variable, each with 2031 records."
      ],
      "metadata": {
        "id": "TI1hn7dxow5X"
      }
    },
    {
      "cell_type": "code",
      "source": [
        "# data partitioning\n",
        "from sklearn.model_selection import train_test_split\n",
        "X_train, X_valid, y_train, y_valid = train_test_split(X, y, test_size=0.25, random_state=1)"
      ],
      "metadata": {
        "id": "wdXxWdNBo0fv"
      },
      "execution_count": 25,
      "outputs": []
    },
    {
      "cell_type": "markdown",
      "source": [
        "**Data Mining Models/Methods:**"
      ],
      "metadata": {
        "id": "r-ofWJ3wo_6b"
      }
    },
    {
      "cell_type": "markdown",
      "source": [
        "##KNN"
      ],
      "metadata": {
        "id": "mexeJ9bAo8eK"
      }
    },
    {
      "cell_type": "markdown",
      "source": [
        "The K-NN  method is to identify k records in the training dataset that are similar to the new records we wish to classify. We then use these similar or neighboring records to classify the new record into a class, assigning the new record to the major class of these neighbors. We look for records in the training data that are similar or \"close\" to the records that we want to classify in the prediction space. Then, we assign a class to the records we want to classify based on the classes to which those close records belong.<br>\n",
        "\n",
        "Advantage:\n",
        "1. Training time complexity is relatively low compared to some algorithms.\n",
        "2. No assumptions on the distribution of the data; high accuracy.\n",
        "3. Since the KNN method mainly relies on the limited number of neighboring samples around, rather than the discriminative class domain to determine the class, so for the set of samples to be classified with more intersection or overlap of class domains, the KNN method is more suitable than other methods.<br>\n",
        "\n",
        "Disadvantage:\n",
        "1. The choice of K is not fixed.\n",
        "2. The prediction results are easily affected by the data containing noise.\n",
        "3. When the samples are unbalanced, the categories of the new samples are biased toward the categories with superior numbers in the training samples, which easily leads to prediction errors.\n",
        "\n",
        "Implementation:<br> \n",
        "Twenty nearest neighbor iterations (k=20) were run using the k-NN classifier. An additional parameter was used in each iteration to obtain the best value of k."
      ],
      "metadata": {
        "id": "Pjkqmg4fo9-P"
      }
    },
    {
      "cell_type": "code",
      "source": [
        "from sklearn.metrics import accuracy_score\n",
        "from sklearn.neighbors import NearestNeighbors,KNeighborsClassifier\n",
        "import matplotlib.pylab as plt"
      ],
      "metadata": {
        "id": "-07jwbTCpR9n"
      },
      "execution_count": 26,
      "outputs": []
    },
    {
      "cell_type": "code",
      "source": [
        "results = []\n",
        "for k in range(1, 21):\n",
        "  knn = KNeighborsClassifier(n_neighbors=k).fit(X_train,y_train)\n",
        "  results.append({'k': k,'accuracy': accuracy_score(y_valid, knn.predict(X_valid))})\n",
        "# Convert results to a pandas data frame\n",
        "results = pd.DataFrame(results)\n",
        "print(results)"
      ],
      "metadata": {
        "colab": {
          "base_uri": "https://localhost:8080/"
        },
        "id": "KMk1wbXGpTWW",
        "outputId": "e85953cd-28b2-4207-c49c-39919e1ed475"
      },
      "execution_count": 27,
      "outputs": [
        {
          "output_type": "stream",
          "name": "stdout",
          "text": [
            "     k  accuracy\n",
            "0    1  0.999508\n",
            "1    2  0.998031\n",
            "2    3  0.998031\n",
            "3    4  0.997046\n",
            "4    5  0.997538\n",
            "5    6  0.996061\n",
            "6    7  0.996061\n",
            "7    8  0.995569\n",
            "8    9  0.996061\n",
            "9   10  0.995569\n",
            "10  11  0.995569\n",
            "11  12  0.994584\n",
            "12  13  0.995076\n",
            "13  14  0.992614\n",
            "14  15  0.994092\n",
            "15  16  0.992122\n",
            "16  17  0.993107\n",
            "17  18  0.990645\n",
            "18  19  0.991137\n",
            "19  20  0.990153\n"
          ]
        }
      ]
    },
    {
      "cell_type": "code",
      "source": [
        "knn = KNeighborsClassifier(n_neighbors=6)\n",
        "knn.fit(X_train, y_train)\n",
        "y_predknn = knn.predict(X_valid)\n",
        "print('RandomForestClassifier Accuracy is: {}'.format(knn.score(X_valid,y_valid)))"
      ],
      "metadata": {
        "colab": {
          "base_uri": "https://localhost:8080/"
        },
        "id": "ItJmEJ9LpUwK",
        "outputId": "ea5ada37-289f-486e-98dd-4cad741c425e"
      },
      "execution_count": 28,
      "outputs": [
        {
          "output_type": "stream",
          "name": "stdout",
          "text": [
            "RandomForestClassifier Accuracy is: 0.9960610536681438\n"
          ]
        }
      ]
    },
    {
      "cell_type": "code",
      "source": [
        "print('Model accuracy score: {0:0.4f}'. format(accuracy_score(y_valid, y_predknn)))\n",
        "y_pred_train_knn = knn.predict(X_train)\n",
        "print('Training-set accuracy score: {0:0.4f}'. format(accuracy_score(y_train, y_pred_train_knn)))\n",
        "print('Training set score: {:.4f}'.format(knn.score(X_train, y_train)))\n",
        "print('Test set score: {:.4f}'.format(knn.score(X_valid, y_valid)))"
      ],
      "metadata": {
        "colab": {
          "base_uri": "https://localhost:8080/"
        },
        "id": "SJ7D_k97pWTQ",
        "outputId": "c4bea087-d6f6-49d3-ae7c-050c68815e22"
      },
      "execution_count": 29,
      "outputs": [
        {
          "output_type": "stream",
          "name": "stdout",
          "text": [
            "Model accuracy score: 0.9961\n",
            "Training-set accuracy score: 0.9990\n",
            "Training set score: 0.9990\n",
            "Test set score: 0.9961\n"
          ]
        }
      ]
    },
    {
      "cell_type": "code",
      "source": [
        "from sklearn.metrics import roc_curve, auc"
      ],
      "metadata": {
        "id": "XFb5T140pXaq"
      },
      "execution_count": 30,
      "outputs": []
    },
    {
      "cell_type": "code",
      "source": [
        "fpr,tpr,_= roc_curve(y_valid, y_predknn)\n",
        "roc_auc = auc(fpr, tpr)\n",
        "plt.figure(figsize=[5, 5])\n",
        "plt.plot(fpr, tpr, color='darkorange',lw=2,label='ROC curve (area = %0.4f)' % roc_auc)\n",
        "plt.plot([0, 1], [0, 1], color='navy', lw=2, linestyle='--')\n",
        "plt.xlim([0.0, 1.0])\n",
        "plt.ylim([0.0, 1.05])\n",
        "plt.title('ROC CURVE KNN')\n",
        "plt.xlabel('False Positive Rate (1 - Specificity)')\n",
        "plt.ylabel('True Positive Rate (Sensitivity)')\n",
        "plt.legend(loc=\"lower right\")"
      ],
      "metadata": {
        "colab": {
          "base_uri": "https://localhost:8080/",
          "height": 367
        },
        "id": "mD0kzcyLpYjT",
        "outputId": "1a11100e-a7e6-4d84-db3e-a6c70f74f0bb"
      },
      "execution_count": 31,
      "outputs": [
        {
          "output_type": "execute_result",
          "data": {
            "text/plain": [
              "<matplotlib.legend.Legend at 0x7f6654a6c310>"
            ]
          },
          "metadata": {},
          "execution_count": 31
        },
        {
          "output_type": "display_data",
          "data": {
            "text/plain": [
              "<Figure size 360x360 with 1 Axes>"
            ],
            "image/png": "[encoded data removed]"
          },
          "metadata": {
            "needs_background": "light"
          }
        }
      ]
    },
    {
      "cell_type": "code",
      "source": [
        "from sklearn.metrics import classification_report\n",
        "\n",
        "print(classification_report(y_valid, y_predknn))"
      ],
      "metadata": {
        "colab": {
          "base_uri": "https://localhost:8080/"
        },
        "id": "Ack0lGX7pZw4",
        "outputId": "6a61389e-325d-4d74-87b9-e19e231dde4f"
      },
      "execution_count": 32,
      "outputs": [
        {
          "output_type": "stream",
          "name": "stdout",
          "text": [
            "              precision    recall  f1-score   support\n",
            "\n",
            "           0       0.99      1.00      1.00      1020\n",
            "           1       1.00      0.99      1.00      1011\n",
            "\n",
            "    accuracy                           1.00      2031\n",
            "   macro avg       1.00      1.00      1.00      2031\n",
            "weighted avg       1.00      1.00      1.00      2031\n",
            "\n"
          ]
        }
      ]
    },
    {
      "cell_type": "markdown",
      "source": [
        "After running 20 nearest neighbor iterations with the k-NN classifier, we can see that the accuracy score decreases slowly as the number of iterations increases. However, the accuracy score is above 99% for all 20 iterations. The maximum accuracy score is 99.6% when k is 1. But we can choose a more stable accuracy score of 99.6% when k is 6, 7 and 9. So we can conclude that the best value of k is 6."
      ],
      "metadata": {
        "id": "SOXJTwIbpg0W"
      }
    },
    {
      "cell_type": "markdown",
      "source": [
        "##Naive Bayes"
      ],
      "metadata": {
        "id": "q1W7xPCZqMU8"
      }
    },
    {
      "cell_type": "markdown",
      "source": [
        "The Naive Bayes classifier assumes each attribute in the dataset is independent and has the equal distribution of the outcome. The probability of an observation belonging to a certain class is calculated by multiplying the conditional probabilities together for each feature for a given class value based on Bayes’ Theorem. After having probabilities of the predictors belonging to each class, we can choose the class value with the highest probability and make further predictions.\n",
        "\n",
        "Advantage:\n",
        "1. The computation can be done quickly since the model uses a probabilistic approach.\n",
        "2. Can be implemented without a large training set.\n",
        "3. Robust to noisy data compared to the Exact Bayes model.\n",
        "\n",
        "Disadvantage:\n",
        "1. Fails to record relationships between attributes.\n",
        "2. It is hard to find features that are all independent like what the model assumes in real life.\n",
        "3. Needs a large number of records to obtain reliable parameter estimates.\n",
        "\n",
        "Implementation: <br>\n",
        "The Multinomial Naive Bayes classifier was executed with a default smoothing parameter of 1.0, resulting in an validation accuracy of 79.4%.\n"
      ],
      "metadata": {
        "id": "k9Gy0o9VqOvS"
      }
    },
    {
      "cell_type": "code",
      "source": [
        "!pip install dmba\n",
        "from dmba import classificationSummary"
      ],
      "metadata": {
        "colab": {
          "base_uri": "https://localhost:8080/"
        },
        "id": "ZYsbpcCGqr94",
        "outputId": "72d2c3b5-700c-48b2-ddbc-ef8d98f73694"
      },
      "execution_count": 37,
      "outputs": [
        {
          "output_type": "stream",
          "name": "stdout",
          "text": [
            "Looking in indexes: https://pypi.org/simple, https://us-python.pkg.dev/colab-wheels/public/simple/\n",
            "Requirement already satisfied: dmba in /usr/local/lib/python3.8/dist-packages (0.1.0)\n"
          ]
        }
      ]
    },
    {
      "cell_type": "code",
      "source": [
        "from sklearn.naive_bayes import MultinomialNB\n",
        "# instantiate the model\n",
        "model_nb = MultinomialNB()\n",
        "# fit the model\n",
        "model_nb.fit(X_train, y_train)\n",
        "y_pred_NB = model_nb.predict(X_valid)\n",
        "# predict probabilities\n",
        "predProb_train = model_nb.predict_proba(X_train)\n",
        "predProb_valid = model_nb.predict_proba(X_valid)[:, 1]"
      ],
      "metadata": {
        "id": "7YQKmn8fqbpH"
      },
      "execution_count": 38,
      "outputs": []
    },
    {
      "cell_type": "code",
      "source": [
        "from sklearn.metrics import accuracy_score\n",
        "#accuracy of testing and training sets\n",
        "print('Model accuracy score: {0:0.4f}'. format(accuracy_score(y_valid, y_pred_NB)))\n",
        "y_pred_train_NB = model_nb.predict(X_train)\n",
        "print('Training-set accuracy score: {0:0.4f}'. format(accuracy_score(y_train, y_pred_train_NB)))"
      ],
      "metadata": {
        "colab": {
          "base_uri": "https://localhost:8080/"
        },
        "id": "LD0DrbrwqjOX",
        "outputId": "38b25492-627e-4c9d-8115-4bd5134c1f07"
      },
      "execution_count": 39,
      "outputs": [
        {
          "output_type": "stream",
          "name": "stdout",
          "text": [
            "Model accuracy score: 0.7942\n",
            "Training-set accuracy score: 0.8012\n"
          ]
        }
      ]
    },
    {
      "cell_type": "code",
      "source": [
        "from sklearn.metrics import confusion_matrix\n",
        "from sklearn.metrics import log_loss, roc_auc_score, recall_score, precision_score, average_precision_score, f1_score, classification_report, accuracy_score, plot_roc_curve, plot_precision_recall_curve, plot_confusion_matrix"
      ],
      "metadata": {
        "id": "CgRxE47RqmeX"
      },
      "execution_count": 40,
      "outputs": []
    },
    {
      "cell_type": "code",
      "source": [
        "#cm for the the training set\n",
        "cm_nb_train = confusion_matrix(y_train, y_pred_train_NB)\n",
        "\n",
        "print('Confusion matrix\\n\\n', cm_nb_train)\n",
        "print('Training Accuracy = {:.5f}'.format(accuracy_score(y_train, y_pred_train_NB)))"
      ],
      "metadata": {
        "colab": {
          "base_uri": "https://localhost:8080/"
        },
        "id": "HljC0KwMqxXH",
        "outputId": "ab60eaad-ce28-45d3-e1ef-8a634f102cf8"
      },
      "execution_count": 41,
      "outputs": [
        {
          "output_type": "stream",
          "name": "stdout",
          "text": [
            "Confusion matrix\n",
            "\n",
            " [[2969  219]\n",
            " [ 992 1913]]\n",
            "Training Accuracy = 0.80125\n"
          ]
        }
      ]
    },
    {
      "cell_type": "code",
      "source": [
        "#classification report for the training set\n",
        "print(classification_report(y_train, y_pred_train_NB))"
      ],
      "metadata": {
        "colab": {
          "base_uri": "https://localhost:8080/"
        },
        "id": "4vIDRisOqzRP",
        "outputId": "6cd20bbf-ed9d-4885-aaee-ae16113de077"
      },
      "execution_count": 42,
      "outputs": [
        {
          "output_type": "stream",
          "name": "stdout",
          "text": [
            "              precision    recall  f1-score   support\n",
            "\n",
            "           0       0.75      0.93      0.83      3188\n",
            "           1       0.90      0.66      0.76      2905\n",
            "\n",
            "    accuracy                           0.80      6093\n",
            "   macro avg       0.82      0.79      0.80      6093\n",
            "weighted avg       0.82      0.80      0.80      6093\n",
            "\n"
          ]
        }
      ]
    },
    {
      "cell_type": "code",
      "source": [
        "#Visualization for training cm\n",
        "cm_matrix_train_NB = pd.DataFrame(data=cm_nb_train)\n",
        "sns.heatmap(cm_matrix_train_NB, annot=True, fmt='d', cmap='YlGnBu')\n",
        "plt.xlabel('Predicted')\n",
        "plt.ylabel('Actual')"
      ],
      "metadata": {
        "colab": {
          "base_uri": "https://localhost:8080/",
          "height": 296
        },
        "id": "Ep8uIipRq0VA",
        "outputId": "230d8a3f-1953-4559-d80e-de7ad1b86c55"
      },
      "execution_count": 43,
      "outputs": [
        {
          "output_type": "execute_result",
          "data": {
            "text/plain": [
              "Text(33.0, 0.5, 'Actual')"
            ]
          },
          "metadata": {},
          "execution_count": 43
        },
        {
          "output_type": "display_data",
          "data": {
            "text/plain": [
              "<Figure size 432x288 with 2 Axes>"
            ],
            "image/png": "[encoded data removed]"
          },
          "metadata": {
            "needs_background": "light"
          }
        }
      ]
    },
    {
      "cell_type": "code",
      "source": [
        "#cm for validation set\n",
        "cm_nb_valid = confusion_matrix(y_valid, y_pred_NB)\n",
        "test_prob_nb = model_nb.predict_proba(X_valid)[:, 1]\n",
        "\n",
        "print('Confusion matrix\\n\\n', cm_nb_valid)\n",
        "print('Log loss = {:.5f}'.format(log_loss(y_valid, test_prob_nb)))\n",
        "print('AUC = {:.5f}'.format(roc_auc_score(y_valid, test_prob_nb)))\n",
        "print('Average Precision = {:.5f}'.format(average_precision_score(y_valid, test_prob_nb)))"
      ],
      "metadata": {
        "colab": {
          "base_uri": "https://localhost:8080/"
        },
        "id": "ksQaWTSDq1eI",
        "outputId": "40427c8d-a4c2-431e-9aff-811cf8903fdf"
      },
      "execution_count": 44,
      "outputs": [
        {
          "output_type": "stream",
          "name": "stdout",
          "text": [
            "Confusion matrix\n",
            "\n",
            " [[940  80]\n",
            " [338 673]]\n",
            "Log loss = 0.63461\n",
            "AUC = 0.89189\n",
            "Average Precision = 0.90554\n"
          ]
        }
      ]
    },
    {
      "cell_type": "code",
      "source": [
        "#measurements for the testing set \n",
        "print('\\nUsing 0.5 as threshold:')\n",
        "print('Accuracy = {:.5f}'.format(accuracy_score(y_valid, y_pred_NB)))\n",
        "print('Precision = {:.5f}'.format(precision_score(y_valid, y_pred_NB)))\n",
        "print('Recall = {:.5f}'.format(recall_score(y_valid, y_pred_NB)))\n",
        "print('F1 score = {:.5f}'.format(f1_score(y_valid, y_pred_NB)))\n",
        "\n",
        "print('\\nClassification Report')\n",
        "print(classification_report(y_valid, y_pred_NB))"
      ],
      "metadata": {
        "colab": {
          "base_uri": "https://localhost:8080/"
        },
        "id": "_wY2AJKfq38X",
        "outputId": "b41f7971-3f5f-4639-e7a7-d395e151e871"
      },
      "execution_count": 45,
      "outputs": [
        {
          "output_type": "stream",
          "name": "stdout",
          "text": [
            "\n",
            "Using 0.5 as threshold:\n",
            "Accuracy = 0.79419\n",
            "Precision = 0.89376\n",
            "Recall = 0.66568\n",
            "F1 score = 0.76304\n",
            "\n",
            "Classification Report\n",
            "              precision    recall  f1-score   support\n",
            "\n",
            "           0       0.74      0.92      0.82      1020\n",
            "           1       0.89      0.67      0.76      1011\n",
            "\n",
            "    accuracy                           0.79      2031\n",
            "   macro avg       0.81      0.79      0.79      2031\n",
            "weighted avg       0.81      0.79      0.79      2031\n",
            "\n"
          ]
        }
      ]
    },
    {
      "cell_type": "code",
      "source": [
        "#Visualization for testing cm\n",
        "cm_matrix_pred_NB = pd.DataFrame(data=cm_nb_valid)\n",
        "sns.heatmap(cm_matrix_pred_NB, annot=True, fmt='d', cmap='YlGnBu')\n",
        "plt.xlabel('Predicted')\n",
        "plt.ylabel('Actual')"
      ],
      "metadata": {
        "colab": {
          "base_uri": "https://localhost:8080/",
          "height": 296
        },
        "id": "QoVpaa_Bq6_x",
        "outputId": "65b1f8ee-2a85-4e47-bcd7-e0480b1b4429"
      },
      "execution_count": 46,
      "outputs": [
        {
          "output_type": "execute_result",
          "data": {
            "text/plain": [
              "Text(33.0, 0.5, 'Actual')"
            ]
          },
          "metadata": {},
          "execution_count": 46
        },
        {
          "output_type": "display_data",
          "data": {
            "text/plain": [
              "<Figure size 432x288 with 2 Axes>"
            ],
            "image/png": "[encoded data removed]"
          },
          "metadata": {
            "needs_background": "light"
          }
        }
      ]
    },
    {
      "cell_type": "markdown",
      "source": [
        "The predictive performance of the Naive Bayes model can be seen in the confusion matrix. The model has a validation accuracy of 79.4% and a training accuracy of 80.1%, which means the model is not overfitting and is able to get 79.4% of the predictions right with new data. The precision of the model is 89.1%, and the recall of the model is 66.6%, meaning that the model does not predict many observations as class of interest, but most of what it predicts as class of interest is correct (a low FP but a high FN). On the other hand, many observations actually in the class of interest are missed.<br>\n",
        "\n",
        "The F1 score of the model is 0.76, which gives a harmonic mean of precision and recall, and we can decide if one of them is more important in future studies. "
      ],
      "metadata": {
        "id": "prH_EKfPriiv"
      }
    },
    {
      "cell_type": "code",
      "source": [
        "#ROC Curve for the Naive Bayes model\n",
        "fpr, tpr,_ = roc_curve(y_valid, predProb_valid)\n",
        "roc_auc = auc(fpr, tpr)\n",
        "plt.figure(figsize=[5, 5])\n",
        "plt.plot(fpr, tpr, color='darkorange',lw=2,label='ROC curve (area = %0.4f)' % roc_auc)\n",
        "plt.plot([0, 1], [0, 1], color='navy', lw=2, linestyle='--')\n",
        "plt.xlim([0.0, 1.0])\n",
        "plt.ylim([0.0, 1.05])\n",
        "plt.title('ROC CURVE Naive Bayes')\n",
        "plt.xlabel('False Positive Rate (1 - Specificity)')\n",
        "plt.ylabel('True Positive Rate (Sensitivity)')\n",
        "plt.legend(loc=\"lower right\")"
      ],
      "metadata": {
        "colab": {
          "base_uri": "https://localhost:8080/",
          "height": 367
        },
        "id": "Ks_UJQb7q8Hg",
        "outputId": "8f765fc5-e468-40f1-84f6-c7e97bf0251d"
      },
      "execution_count": 47,
      "outputs": [
        {
          "output_type": "execute_result",
          "data": {
            "text/plain": [
              "<matplotlib.legend.Legend at 0x7f6654660df0>"
            ]
          },
          "metadata": {},
          "execution_count": 47
        },
        {
          "output_type": "display_data",
          "data": {
            "text/plain": [
              "<Figure size 360x360 with 1 Axes>"
            ],
            "image/png": "[encoded data removed]"
          },
          "metadata": {
            "needs_background": "light"
          }
        }
      ]
    },
    {
      "cell_type": "markdown",
      "source": [
        "The area under the ROC Curve is 0.89, which visualizes the model’s ability to discriminate between classes on the new data."
      ],
      "metadata": {
        "id": "ydbzQxKrrUGu"
      }
    },
    {
      "cell_type": "markdown",
      "source": [
        "##Logistic Regression"
      ],
      "metadata": {
        "id": "501SuHzYr6mn"
      }
    },
    {
      "cell_type": "markdown",
      "source": [
        "The logistic regression model can be used for datasets with a categorical outcome variable, and the observations will be assigned to discrete sets of classes. The logistic regression model is based on the concept of probability, and will return a probability value that the observation belongs to a certain class. \n",
        "\n",
        "Advantage:\n",
        "1. Easy to implement, and more efficient in training than many complex algorithms. \n",
        "2. Does not make assumptions about distributions of class data in feature space.\n",
        "3. Performs well on datasets with independent variables that are linearly separable. \n",
        "\n",
        "Disadvantage:\n",
        "1. Likely to lead to overfit if the number of predictors is more than the number of observations in a dataset.\n",
        "2. Should not be used on non-linear problems, because the model has a linear decision boundary.\n",
        "3. Does not work well in the presence of multicollinearity. \n",
        "\n",
        "Implementation: <br> \n",
        "A logistic regression model without penalty is applied to the dataset, and the validation accuracy is  94.9%.\n"
      ],
      "metadata": {
        "id": "P51AUPbsr9Jo"
      }
    },
    {
      "cell_type": "code",
      "source": [
        "from sklearn.linear_model import LogisticRegression"
      ],
      "metadata": {
        "id": "ghod8hu6sGws"
      },
      "execution_count": 48,
      "outputs": []
    },
    {
      "cell_type": "code",
      "source": [
        "#fit the model\n",
        "model_lr = LogisticRegression(max_iter=1000)\n",
        "model_lr.fit(X_train, y_train)"
      ],
      "metadata": {
        "colab": {
          "base_uri": "https://localhost:8080/"
        },
        "id": "3xWUDkIGr8vM",
        "outputId": "9077d39d-c974-439c-da3f-4465d093f4e0"
      },
      "execution_count": 49,
      "outputs": [
        {
          "output_type": "execute_result",
          "data": {
            "text/plain": [
              "LogisticRegression(max_iter=1000)"
            ]
          },
          "metadata": {},
          "execution_count": 49
        }
      ]
    },
    {
      "cell_type": "code",
      "source": [
        "#prediction\n",
        "y_pred_lr = model_lr.predict(X_valid)\n",
        "test_prob = model_lr.predict_proba(X_valid)[:, 1]  # P(target = 1)"
      ],
      "metadata": {
        "id": "U_IgH_zHsLHh"
      },
      "execution_count": 50,
      "outputs": []
    },
    {
      "cell_type": "code",
      "source": [
        "#training accuracy\n",
        "y_pred_lr_train = model_lr.predict(X_train)\n",
        "print('Training Accuracy = {:.5f}'.format(accuracy_score(y_train, y_pred_lr_train)))"
      ],
      "metadata": {
        "colab": {
          "base_uri": "https://localhost:8080/"
        },
        "id": "T41mP0yosLgf",
        "outputId": "f58938cf-b165-4943-c0ef-8740542b8e9b"
      },
      "execution_count": 51,
      "outputs": [
        {
          "output_type": "stream",
          "name": "stdout",
          "text": [
            "Training Accuracy = 0.94272\n"
          ]
        }
      ]
    },
    {
      "cell_type": "code",
      "source": [
        "#measurements for the testing set\n",
        "print('Log loss = {:.5f}'.format(log_loss(y_valid, test_prob)))\n",
        "print('AUC = {:.5f}'.format(roc_auc_score(y_valid, test_prob)))\n",
        "print('Average Precision = {:.5f}'.format(average_precision_score(y_valid, test_prob)))\n",
        "print('\\nUsing 0.5 as threshold:')\n",
        "print('Accuracy = {:.5f}'.format(accuracy_score(y_valid, y_pred_lr)))\n",
        "print('Precision = {:.5f}'.format(precision_score(y_valid, y_pred_lr)))\n",
        "print('Recall = {:.5f}'.format(recall_score(y_valid, y_pred_lr)))\n",
        "print('F1 score = {:.5f}'.format(f1_score(y_valid, y_pred_lr)))\n",
        "\n",
        "print('\\nClassification Report')\n",
        "print(classification_report(y_valid, y_pred_lr))"
      ],
      "metadata": {
        "colab": {
          "base_uri": "https://localhost:8080/"
        },
        "id": "t8IyrVpxsOZQ",
        "outputId": "3a36b0e4-5e88-4b94-f202-a8ae95dfb017"
      },
      "execution_count": 56,
      "outputs": [
        {
          "output_type": "stream",
          "name": "stdout",
          "text": [
            "Log loss = 0.17559\n",
            "AUC = 0.98013\n",
            "Average Precision = 0.97950\n",
            "\n",
            "Using 0.5 as threshold:\n",
            "Accuracy = 0.94879\n",
            "Precision = 0.95947\n",
            "Recall = 0.93670\n",
            "F1 score = 0.94795\n",
            "\n",
            "Classification Report\n",
            "              precision    recall  f1-score   support\n",
            "\n",
            "           0       0.94      0.96      0.95      1020\n",
            "           1       0.96      0.94      0.95      1011\n",
            "\n",
            "    accuracy                           0.95      2031\n",
            "   macro avg       0.95      0.95      0.95      2031\n",
            "weighted avg       0.95      0.95      0.95      2031\n",
            "\n"
          ]
        }
      ]
    },
    {
      "cell_type": "code",
      "source": [
        "#cm for the testing set\n",
        "cm_lr = confusion_matrix(y_valid, y_pred_lr)\n",
        "\n",
        "print('Confusion matrix\\n\\n', cm_lr)"
      ],
      "metadata": {
        "colab": {
          "base_uri": "https://localhost:8080/"
        },
        "id": "QfZND0wBsPkn",
        "outputId": "b90473ad-07cc-494b-ee7b-ce6816668732"
      },
      "execution_count": 57,
      "outputs": [
        {
          "output_type": "stream",
          "name": "stdout",
          "text": [
            "Confusion matrix\n",
            "\n",
            " [[980  40]\n",
            " [ 64 947]]\n"
          ]
        }
      ]
    },
    {
      "cell_type": "code",
      "source": [
        "cm_matrix_lr = pd.DataFrame(data=cm_lr)\n",
        "sns.heatmap(cm_matrix_lr, annot=True, fmt='d', cmap='YlGnBu')\n",
        "plt.xlabel('Predicted')\n",
        "plt.ylabel('Actual')"
      ],
      "metadata": {
        "colab": {
          "base_uri": "https://localhost:8080/",
          "height": 296
        },
        "id": "oXTSgn79sQoP",
        "outputId": "a513592a-fb23-4f3a-d0af-f9d8914f1a61"
      },
      "execution_count": 58,
      "outputs": [
        {
          "output_type": "execute_result",
          "data": {
            "text/plain": [
              "Text(33.0, 0.5, 'Actual')"
            ]
          },
          "metadata": {},
          "execution_count": 58
        },
        {
          "output_type": "display_data",
          "data": {
            "text/plain": [
              "<Figure size 432x288 with 2 Axes>"
            ],
            "image/png": "[encoded data removed]"
          },
          "metadata": {
            "needs_background": "light"
          }
        }
      ]
    },
    {
      "cell_type": "markdown",
      "source": [
        "We tried to use a logistic regression model to fit the dataset. The model has a training accuracy of 94.3%, and a validation accuracy of 94.9%, the slightly lower in the training accuracy may be caused by the random data partitioning process. It can be seen that the model is not overfitting and gives good predictions. The precision of 95.9% indicates the high ratio of correct positive predictions to the total predicted positives. The recall of  93.7% means the high ratio of correct positive predictions to the total actual positive observations. <br>\n",
        "\n",
        "The F1 score of 0.95 implies low false negatives and low false positives in the model, meaning that the model performs accurately on new data."
      ],
      "metadata": {
        "id": "uRnJHcLqsb_P"
      }
    },
    {
      "cell_type": "code",
      "source": [
        "# ROC Curve for the logistic regression model\n",
        "fpr,tpr,_= roc_curve(y_valid, test_prob)\n",
        "roc_auc = auc(fpr, tpr)\n",
        "plt.figure(figsize=[5, 5])\n",
        "plt.plot(fpr, tpr, color='darkorange',lw=2,label='ROC curve (area = %0.4f)' % roc_auc)\n",
        "plt.plot([0, 1], [0, 1], color='navy', lw=2, linestyle='--')\n",
        "plt.xlim([0.0, 1.0])\n",
        "plt.ylim([0.0, 1.05])\n",
        "plt.title('ROC CURVE Logistic Regression')\n",
        "plt.xlabel('False Positive Rate (1 - Specificity)')\n",
        "plt.ylabel('True Positive Rate (Sensitivity)')\n",
        "plt.legend(loc=\"lower right\")"
      ],
      "metadata": {
        "colab": {
          "base_uri": "https://localhost:8080/",
          "height": 367
        },
        "id": "MkxiLrRHsuTA",
        "outputId": "2a082f82-c211-426c-b62e-efc18b48f985"
      },
      "execution_count": 59,
      "outputs": [
        {
          "output_type": "execute_result",
          "data": {
            "text/plain": [
              "<matplotlib.legend.Legend at 0x7f6657867d30>"
            ]
          },
          "metadata": {},
          "execution_count": 59
        },
        {
          "output_type": "display_data",
          "data": {
            "text/plain": [
              "<Figure size 360x360 with 1 Axes>"
            ],
            "image/png": "[encoded data removed]"
          },
          "metadata": {
            "needs_background": "light"
          }
        }
      ]
    },
    {
      "cell_type": "markdown",
      "source": [
        "The ROC curve is close to the top-left corner, and the area under the ROC Curve is 0.98, meaning that the model discriminates between classes well on the new data. "
      ],
      "metadata": {
        "id": "p-o9QFm-st0f"
      }
    },
    {
      "cell_type": "markdown",
      "source": [
        "##Random Forest"
      ],
      "metadata": {
        "id": "8aPlE2qHs2k_"
      }
    },
    {
      "cell_type": "markdown",
      "source": [
        "A random forest is a method in which many decision trees are integrated and used to predict the final outcome. In 2001, Breiman combined classification trees into a random forest by randomizing the use of variables (columns) and data (rows) to generate many classification trees, and then aggregated the results of the classification trees.\n",
        "\n",
        "Advantage:\n",
        "1. Being able to handle very high-dimensional data and not having to do feature selection, since the feature subset is chosen randomly.\n",
        "2. The ability to derive feature importance after training.\n",
        "3. Insensitive to missing values, and can still maintain accuracy if a large portion of the features are missing.\n",
        "\n",
        "Disadvantage:\n",
        "1. Random forests can overfit on certain noisy classification or regression problems.\n",
        "2. For data with attributes with different values, attributes with more value divisions will have a greater impact on the random forest.\n",
        "\n",
        "Implementation:<br> \n",
        "By using RandomForestClassifier to determine the feature importance, the feature importance values are collected to get better accuracy in fitting the RandomForestClassifier model.\n"
      ],
      "metadata": {
        "id": "6OF_6wAJs6Tp"
      }
    },
    {
      "cell_type": "code",
      "source": [
        "from sklearn.ensemble import RandomForestClassifier,GradientBoostingClassifier"
      ],
      "metadata": {
        "id": "JkCjD3l6tBaz"
      },
      "execution_count": 60,
      "outputs": []
    },
    {
      "cell_type": "code",
      "source": [
        "RFC = RandomForestClassifier(max_depth=4,max_features=20, random_state=1)\n",
        "RFC.fit(X_train, y_train)\n",
        "y_predrfc = RFC.predict(X_valid)\n",
        "print('RandomForestClassifier Accuracy is: {}'.format(RFC.score(X_valid,y_valid)))"
      ],
      "metadata": {
        "colab": {
          "base_uri": "https://localhost:8080/"
        },
        "id": "xv3D_0BztD-U",
        "outputId": "bd99ae10-c860-426b-bfa2-312c7233de97"
      },
      "execution_count": 61,
      "outputs": [
        {
          "output_type": "stream",
          "name": "stdout",
          "text": [
            "RandomForestClassifier Accuracy is: 0.982274741506647\n"
          ]
        }
      ]
    },
    {
      "cell_type": "code",
      "source": [
        "results = []\n",
        "for m in range(1, 20):\n",
        "  RFC = RandomForestClassifier(max_depth=m,max_features=20).fit(X_train,y_train)\n",
        "  results.append({'m': m,'accuracy': accuracy_score(y_valid, RFC.predict(X_valid))})\n",
        "# Convert results to a pandas data frame\n",
        "results = pd.DataFrame(results)\n",
        "print(results)"
      ],
      "metadata": {
        "colab": {
          "base_uri": "https://localhost:8080/"
        },
        "id": "BXvtHKuHtFJ3",
        "outputId": "8cbcf6d5-540b-486c-bf18-b0b085bc37e2"
      },
      "execution_count": 62,
      "outputs": [
        {
          "output_type": "stream",
          "name": "stdout",
          "text": [
            "     m  accuracy\n",
            "0    1  0.790251\n",
            "1    2  0.914820\n",
            "2    3  0.967996\n",
            "3    4  0.982275\n",
            "4    5  0.994092\n",
            "5    6  0.995076\n",
            "6    7  1.000000\n",
            "7    8  1.000000\n",
            "8    9  1.000000\n",
            "9   10  1.000000\n",
            "10  11  1.000000\n",
            "11  12  1.000000\n",
            "12  13  1.000000\n",
            "13  14  1.000000\n",
            "14  15  1.000000\n",
            "15  16  1.000000\n",
            "16  17  1.000000\n",
            "17  18  1.000000\n",
            "18  19  1.000000\n"
          ]
        }
      ]
    },
    {
      "cell_type": "markdown",
      "source": [
        "Determining feature importance in the Random Forest model shows us each feature. Since there are only 20 features in data X, we set max_features=20. To prevent overfitting, we need to find max_depth which is the maximum number of levels in each decision tree. By running the code we find max_depth equals to 6, which is the maximum m before the accuracy gets 1.0, and the accuracy is 0.995."
      ],
      "metadata": {
        "id": "W9MlPWRztkbk"
      }
    },
    {
      "cell_type": "code",
      "source": [
        "rf = RandomForestClassifier(max_depth=3, random_state=1)\n",
        "rf.fit(X_train, y_train)\n",
        "# variable (feature) importance plot\n",
        "importances = rf.feature_importances_\n",
        "std = np.std([tree.feature_importances_ for tree in rf.estimators_], axis=0)\n",
        "df = pd.DataFrame({'feature': X_train.columns, 'importance': importances, 'std': std})\n",
        "df = df.sort_values('importance')\n",
        "print(df)\n",
        "ax = df.plot(kind='barh', xerr='std', x='feature', legend=False)\n",
        "ax.set_ylabel('')\n",
        "plt.show()"
      ],
      "metadata": {
        "colab": {
          "base_uri": "https://localhost:8080/",
          "height": 629
        },
        "id": "LDo2j6zFtGOR",
        "outputId": "468583e5-dc79-4c74-b4a2-e54ee7ede76b"
      },
      "execution_count": 63,
      "outputs": [
        {
          "output_type": "stream",
          "name": "stdout",
          "text": [
            "                     feature  importance       std\n",
            "0                  cap-shape    0.000552  0.003496\n",
            "5            gill-attachment    0.002671  0.013299\n",
            "1                cap-surface    0.003355  0.012897\n",
            "2                  cap-color    0.004246  0.011148\n",
            "15               ring-number    0.009122  0.030686\n",
            "13    stalk-color-above-ring    0.010371  0.036248\n",
            "9                stalk-shape    0.011283  0.034256\n",
            "14    stalk-color-below-ring    0.013452  0.039077\n",
            "19                   habitat    0.014565  0.034590\n",
            "18                population    0.054008  0.108886\n",
            "12  stalk-surface-below-ring    0.054553  0.103626\n",
            "6               gill-spacing    0.061099  0.116827\n",
            "3                    bruises    0.062461  0.140352\n",
            "10                stalk-root    0.070435  0.100810\n",
            "11  stalk-surface-above-ring    0.071977  0.144929\n",
            "17         spore-print-color    0.073234  0.139487\n",
            "16                 ring-type    0.087654  0.158451\n",
            "7                  gill-size    0.098682  0.156407\n",
            "4                       odor    0.141982  0.195505\n",
            "8                 gill-color    0.154298  0.213289\n"
          ]
        },
        {
          "output_type": "display_data",
          "data": {
            "text/plain": [
              "<Figure size 432x288 with 1 Axes>"
            ],
            "image/png": "[encoded data removed]"
          },
          "metadata": {
            "needs_background": "light"
          }
        }
      ]
    },
    {
      "cell_type": "code",
      "source": [
        "RFC = RandomForestClassifier(max_depth=3,max_features=20, random_state=1)\n",
        "RFC.fit(X_train, y_train)\n",
        "y_predrfc = RFC.predict(X_valid)\n",
        "print('RandomForestClassifier Accuracy is: {}'.format(RFC.score(X_valid,y_valid)))"
      ],
      "metadata": {
        "colab": {
          "base_uri": "https://localhost:8080/"
        },
        "id": "OxKS1xP8tHZc",
        "outputId": "4f6a10f8-dc34-4d1a-ade0-d1ffd2ade6eb"
      },
      "execution_count": 64,
      "outputs": [
        {
          "output_type": "stream",
          "name": "stdout",
          "text": [
            "RandomForestClassifier Accuracy is: 0.9679960610536681\n"
          ]
        }
      ]
    },
    {
      "cell_type": "code",
      "source": [
        "from sklearn.metrics import classification_report\n",
        "print(classification_report(y_valid, y_predrfc))"
      ],
      "metadata": {
        "colab": {
          "base_uri": "https://localhost:8080/"
        },
        "id": "hC0s1-BNtIhQ",
        "outputId": "ab126132-946e-430e-a4ad-598dac1c7ab2"
      },
      "execution_count": 65,
      "outputs": [
        {
          "output_type": "stream",
          "name": "stdout",
          "text": [
            "              precision    recall  f1-score   support\n",
            "\n",
            "           0       0.97      0.96      0.97      1020\n",
            "           1       0.96      0.97      0.97      1011\n",
            "\n",
            "    accuracy                           0.97      2031\n",
            "   macro avg       0.97      0.97      0.97      2031\n",
            "weighted avg       0.97      0.97      0.97      2031\n",
            "\n"
          ]
        }
      ]
    },
    {
      "cell_type": "code",
      "source": [
        "fpr, tpr,_ = roc_curve(y_valid, y_predrfc)\n",
        "roc_auc = auc(fpr, tpr)\n",
        "plt.figure(figsize=[5, 5])\n",
        "plt.plot(fpr, tpr, color='darkorange',lw=2,label='ROC curve (area = %0.4f)' % roc_auc)\n",
        "plt.plot([0, 1], [0, 1], color='navy', lw=2, linestyle='--')\n",
        "plt.xlim([0.0, 1.0])\n",
        "plt.ylim([0.0, 1.05])\n",
        "plt.xlabel('False Positive Rate (1 - Specificity)')\n",
        "plt.ylabel('True Positive Rate (Sensitivity)')\n",
        "plt.legend(loc=\"lower right\")"
      ],
      "metadata": {
        "colab": {
          "base_uri": "https://localhost:8080/",
          "height": 351
        },
        "id": "Edn0i5oXtJ24",
        "outputId": "4df37e4e-420d-447c-aa40-36832c58179b"
      },
      "execution_count": 66,
      "outputs": [
        {
          "output_type": "execute_result",
          "data": {
            "text/plain": [
              "<matplotlib.legend.Legend at 0x7f665b293a60>"
            ]
          },
          "metadata": {},
          "execution_count": 66
        },
        {
          "output_type": "display_data",
          "data": {
            "text/plain": [
              "<Figure size 360x360 with 1 Axes>"
            ],
            "image/png": "[encoded data removed]"
          },
          "metadata": {
            "needs_background": "light"
          }
        }
      ]
    },
    {
      "cell_type": "markdown",
      "source": [
        "**Project Results:**"
      ],
      "metadata": {
        "id": "EekPM_QbtneI"
      }
    },
    {
      "cell_type": "code",
      "source": [
        "models = {'models': ['k-NN','Naive Bayes', 'Logistic Regression', 'Random Forest'],\n",
        "        'Accuracy': [accuracy_score(y_valid, y_predknn),accuracy_score(y_valid, y_pred_NB),accuracy_score(y_valid, y_pred_lr),RFC.score(X_valid,y_valid)],\n",
        "         'Precision':[precision_score(y_valid, y_predknn),precision_score(y_valid, y_pred_NB),precision_score(y_valid, y_pred_lr),precision_score(y_valid, y_predrfc)],\n",
        "          'Recall': [recall_score(y_valid, y_predknn),recall_score(y_valid, y_pred_NB),recall_score(y_valid, y_pred_lr),recall_score(y_valid, y_predrfc)]}\n",
        "df_performance = pd.DataFrame(models)\n",
        "pd.set_option('precision', 3)\n",
        "df_performance"
      ],
      "metadata": {
        "colab": {
          "base_uri": "https://localhost:8080/",
          "height": 175
        },
        "id": "voQ38tnAtp43",
        "outputId": "15a40f14-97a5-4ccf-a167-9ad96b68e478"
      },
      "execution_count": 67,
      "outputs": [
        {
          "output_type": "execute_result",
          "data": {
            "text/plain": [
              "                models  Accuracy  Precision  Recall\n",
              "0                 k-NN     0.996      1.000   0.992\n",
              "1          Naive Bayes     0.794      0.894   0.666\n",
              "2  Logistic Regression     0.949      0.959   0.937\n",
              "3        Random Forest     0.968      0.964   0.972"
            ],
            "text/html": [
              "\n",
              "  <div id=\"df-f3b2a99f-ee4d-45fd-9f2a-2a1e8efb52e0\">\n",
              "    <div class=\"colab-df-container\">\n",
              "      <div>\n",
              "<style scoped>\n",
              "    .dataframe tbody tr th:only-of-type {\n",
              "        vertical-align: middle;\n",
              "    }\n",
              "\n",
              "    .dataframe tbody tr th {\n",
              "        vertical-align: top;\n",
              "    }\n",
              "\n",
              "    .dataframe thead th {\n",
              "        text-align: right;\n",
              "    }\n",
              "</style>\n",
              "<table border=\"1\" class=\"dataframe\">\n",
              "  <thead>\n",
              "    <tr style=\"text-align: right;\">\n",
              "      <th></th>\n",
              "      <th>models</th>\n",
              "      <th>Accuracy</th>\n",
              "      <th>Precision</th>\n",
              "      <th>Recall</th>\n",
              "    </tr>\n",
              "  </thead>\n",
              "  <tbody>\n",
              "    <tr>\n",
              "      <th>0</th>\n",
              "      <td>k-NN</td>\n",
              "      <td>0.996</td>\n",
              "      <td>1.000</td>\n",
              "      <td>0.992</td>\n",
              "    </tr>\n",
              "    <tr>\n",
              "      <th>1</th>\n",
              "      <td>Naive Bayes</td>\n",
              "      <td>0.794</td>\n",
              "      <td>0.894</td>\n",
              "      <td>0.666</td>\n",
              "    </tr>\n",
              "    <tr>\n",
              "      <th>2</th>\n",
              "      <td>Logistic Regression</td>\n",
              "      <td>0.949</td>\n",
              "      <td>0.959</td>\n",
              "      <td>0.937</td>\n",
              "    </tr>\n",
              "    <tr>\n",
              "      <th>3</th>\n",
              "      <td>Random Forest</td>\n",
              "      <td>0.968</td>\n",
              "      <td>0.964</td>\n",
              "      <td>0.972</td>\n",
              "    </tr>\n",
              "  </tbody>\n",
              "</table>\n",
              "</div>\n",
              "      <button class=\"colab-df-convert\" onclick=\"convertToInteractive('df-f3b2a99f-ee4d-45fd-9f2a-2a1e8efb52e0')\"\n",
              "              title=\"Convert this dataframe to an interactive table.\"\n",
              "              style=\"display:none;\">\n",
              "        \n",
              "  <svg xmlns=\"http://www.w3.org/2000/svg\" height=\"24px\"viewBox=\"0 0 24 24\"\n",
              "       width=\"24px\">\n",
              "    <path d=\"M0 0h24v24H0V0z\" fill=\"none\"/>\n",
              "    <path d=\"M18.56 5.44l.94 2.06.94-2.06 2.06-.94-2.06-.94-.94-2.06-.94 2.06-2.06.94zm-11 1L8.5 8.5l.94-2.06 2.06-.94-2.06-.94L8.5 2.5l-.94 2.06-2.06.94zm10 10l.94 2.06.94-2.06 2.06-.94-2.06-.94-.94-2.06-.94 2.06-2.06.94z\"/><path d=\"M17.41 7.96l-1.37-1.37c-.4-.4-.92-.59-1.43-.59-.52 0-1.04.2-1.43.59L10.3 9.45l-7.72 7.72c-.78.78-.78 2.05 0 2.83L4 21.41c.39.39.9.59 1.41.59.51 0 1.02-.2 1.41-.59l7.78-7.78 2.81-2.81c.8-.78.8-2.07 0-2.86zM5.41 20L4 18.59l7.72-7.72 1.47 1.35L5.41 20z\"/>\n",
              "  </svg>\n",
              "      </button>\n",
              "      \n",
              "  <style>\n",
              "    .colab-df-container {\n",
              "      display:flex;\n",
              "      flex-wrap:wrap;\n",
              "      gap: 12px;\n",
              "    }\n",
              "\n",
              "    .colab-df-convert {\n",
              "      background-color: #E8F0FE;\n",
              "      border: none;\n",
              "      border-radius: 50%;\n",
              "      cursor: pointer;\n",
              "      display: none;\n",
              "      fill: #1967D2;\n",
              "      height: 32px;\n",
              "      padding: 0 0 0 0;\n",
              "      width: 32px;\n",
              "    }\n",
              "\n",
              "    .colab-df-convert:hover {\n",
              "      background-color: #E2EBFA;\n",
              "      box-shadow: 0px 1px 2px rgba(60, 64, 67, 0.3), 0px 1px 3px 1px rgba(60, 64, 67, 0.15);\n",
              "      fill: #174EA6;\n",
              "    }\n",
              "\n",
              "    [theme=dark] .colab-df-convert {\n",
              "      background-color: #3B4455;\n",
              "      fill: #D2E3FC;\n",
              "    }\n",
              "\n",
              "    [theme=dark] .colab-df-convert:hover {\n",
              "      background-color: #434B5C;\n",
              "      box-shadow: 0px 1px 3px 1px rgba(0, 0, 0, 0.15);\n",
              "      filter: drop-shadow(0px 1px 2px rgba(0, 0, 0, 0.3));\n",
              "      fill: #FFFFFF;\n",
              "    }\n",
              "  </style>\n",
              "\n",
              "      <script>\n",
              "        const buttonEl =\n",
              "          document.querySelector('#df-f3b2a99f-ee4d-45fd-9f2a-2a1e8efb52e0 button.colab-df-convert');\n",
              "        buttonEl.style.display =\n",
              "          google.colab.kernel.accessAllowed ? 'block' : 'none';\n",
              "\n",
              "        async function convertToInteractive(key) {\n",
              "          const element = document.querySelector('#df-f3b2a99f-ee4d-45fd-9f2a-2a1e8efb52e0');\n",
              "          const dataTable =\n",
              "            await google.colab.kernel.invokeFunction('convertToInteractive',\n",
              "                                                     [key], {});\n",
              "          if (!dataTable) return;\n",
              "\n",
              "          const docLinkHtml = 'Like what you see? Visit the ' +\n",
              "            '<a target=\"_blank\" href=https://colab.research.google.com/notebooks/data_table.ipynb>data table notebook</a>'\n",
              "            + ' to learn more about interactive tables.';\n",
              "          element.innerHTML = '';\n",
              "          dataTable['output_type'] = 'display_data';\n",
              "          await google.colab.output.renderOutput(dataTable, element);\n",
              "          const docLink = document.createElement('div');\n",
              "          docLink.innerHTML = docLinkHtml;\n",
              "          element.appendChild(docLink);\n",
              "        }\n",
              "      </script>\n",
              "    </div>\n",
              "  </div>\n",
              "  "
            ]
          },
          "metadata": {},
          "execution_count": 67
        }
      ]
    },
    {
      "cell_type": "markdown",
      "source": [
        "Since we are dealing with a classification problem, the performance of the models will be evaluated by the accuracy, precision, and recall. It can be seen that the k-NN model has the highest accuracy, precision, and recall. We choose k to be 6 to obtain a stable performance, and when k is at 6, the k-NN model is able to make correct predictions 99.6% of the time. The high precision indicates that of all the positive predictions, almost all of them are really positive, and recall means of all actual positive samples, 99.1% are being correctly predicted as positive. Overall, the k-NN model is the best model among the other models in making correct predictions.  "
      ],
      "metadata": {
        "id": "yKRFgep0tz-x"
      }
    },
    {
      "cell_type": "markdown",
      "source": [
        "**Impact of the Project Outcomes:**<br>\n",
        "The goal of this project is to find a model that could classify edible mushrooms from the poisonous ones by their physical characteristics. Mushroom poisoning is still one of the serious safety issues that cause statistics of major harm or fatalities each year, so to develop a model with precise predictions will be beneficial to the whole society. <br>\n",
        "\n",
        "The database we used is focused on gilled mushrooms in the Agaricus and Lepiota Family, and we found that no single factors could be used to determine the edibility of the mushroom alone. Among the models we used, the k-NN model, the logistic regression model, and the random forest model all perform well in predicting. In real-world studies, it is possible that there will be an asymmetric cost structure, for example, the cost of misclassifying a poisonous mushroom as edible may be more than the cost of misclassifying an edible mushroom as poison, and the model performance could be reevaluated based on that.\n"
      ],
      "metadata": {
        "id": "294FeP62t1y_"
      }
    },
    {
      "cell_type": "markdown",
      "source": [
        "**Reference:**<br>\n",
        "Schlimmer , J. (n.d.). Mushroom data set. UCI Machine Learning Repository: Mushroom data set. Retrieved December 2, 2022, from https://archive.ics.uci.edu/ml/datasets/Mushroom \n",
        "<br>\n",
        "Garziano, G. (n.d.). Mushrooms classification – part 1. DataScience+. Retrieved December 2, 2022, from https://datascienceplus.com/mushrooms-classification-part-1/\n"
      ],
      "metadata": {
        "id": "wokr795FuCLQ"
      }
    }
  ]
}